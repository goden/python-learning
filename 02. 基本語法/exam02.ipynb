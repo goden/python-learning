{
 "cells": [
  {
   "cell_type": "markdown",
   "id": "3ec40f3a",
   "metadata": {},
   "source": [
    "# Python Keywords"
   ]
  },
  {
   "cell_type": "code",
   "execution_count": 1,
   "id": "2231b88f",
   "metadata": {},
   "outputs": [
    {
     "data": {
      "text/plain": [
       "['False',\n",
       " 'None',\n",
       " 'True',\n",
       " 'and',\n",
       " 'as',\n",
       " 'assert',\n",
       " 'async',\n",
       " 'await',\n",
       " 'break',\n",
       " 'class',\n",
       " 'continue',\n",
       " 'def',\n",
       " 'del',\n",
       " 'elif',\n",
       " 'else',\n",
       " 'except',\n",
       " 'finally',\n",
       " 'for',\n",
       " 'from',\n",
       " 'global',\n",
       " 'if',\n",
       " 'import',\n",
       " 'in',\n",
       " 'is',\n",
       " 'lambda',\n",
       " 'nonlocal',\n",
       " 'not',\n",
       " 'or',\n",
       " 'pass',\n",
       " 'raise',\n",
       " 'return',\n",
       " 'try',\n",
       " 'while',\n",
       " 'with',\n",
       " 'yield']"
      ]
     },
     "execution_count": 1,
     "metadata": {},
     "output_type": "execute_result"
    }
   ],
   "source": [
    "import keyword\n",
    "\n",
    "keyword.kwlist"
   ]
  },
  {
   "cell_type": "code",
   "execution_count": 2,
   "id": "9d95af55",
   "metadata": {},
   "outputs": [
    {
     "name": "stdout",
     "output_type": "stream",
     "text": [
      "True\n"
     ]
    }
   ],
   "source": [
    "print(keyword.iskeyword('if'))"
   ]
  },
  {
   "cell_type": "code",
   "execution_count": 3,
   "id": "84c6cf11",
   "metadata": {},
   "outputs": [
    {
     "data": {
      "text/plain": [
       "False"
      ]
     },
     "execution_count": 3,
     "metadata": {},
     "output_type": "execute_result"
    }
   ],
   "source": [
    "keyword.iskeyword('IF')"
   ]
  },
  {
   "cell_type": "markdown",
   "id": "edc85f73",
   "metadata": {},
   "source": [
    "# Identifier"
   ]
  },
  {
   "cell_type": "code",
   "execution_count": 4,
   "id": "2e7abbc3",
   "metadata": {},
   "outputs": [
    {
     "name": "stdout",
     "output_type": "stream",
     "text": [
      "True\n"
     ]
    }
   ],
   "source": [
    "print(\"abc\".isidentifier())  # True"
   ]
  },
  {
   "cell_type": "code",
   "execution_count": 5,
   "id": "ff6f14c0",
   "metadata": {},
   "outputs": [
    {
     "name": "stdout",
     "output_type": "stream",
     "text": [
      "False\n"
     ]
    }
   ],
   "source": [
    "print(\"99a\".isidentifier())  # False"
   ]
  },
  {
   "cell_type": "code",
   "execution_count": 6,
   "id": "d96d810c",
   "metadata": {},
   "outputs": [
    {
     "name": "stdout",
     "output_type": "stream",
     "text": [
      "True\n"
     ]
    }
   ],
   "source": [
    "print(\"_\".isidentifier())  # True"
   ]
  },
  {
   "cell_type": "code",
   "execution_count": 7,
   "id": "fcbbaef1",
   "metadata": {},
   "outputs": [
    {
     "name": "stdout",
     "output_type": "stream",
     "text": [
      "True\n"
     ]
    }
   ],
   "source": [
    "print(\"for\".isidentifier())  # True"
   ]
  },
  {
   "cell_type": "markdown",
   "id": "8e09d5c6",
   "metadata": {},
   "source": [
    "# Basic Operator"
   ]
  },
  {
   "cell_type": "code",
   "execution_count": 8,
   "id": "ccf796dc",
   "metadata": {},
   "outputs": [
    {
     "name": "stdout",
     "output_type": "stream",
     "text": [
      "abc\n",
      "abcdef\n"
     ]
    }
   ],
   "source": [
    "a = 'abc'\n",
    "b = 'abcdef'\n",
    "\n",
    "print(a)\n",
    "print(b)"
   ]
  },
  {
   "cell_type": "code",
   "execution_count": 9,
   "id": "71ecead3",
   "metadata": {},
   "outputs": [
    {
     "name": "stdout",
     "output_type": "stream",
     "text": [
      "2\n",
      "3\n"
     ]
    }
   ],
   "source": [
    "a = 2 \n",
    "b = 3\n",
    "print(a)\n",
    "print(b)"
   ]
  },
  {
   "cell_type": "code",
   "execution_count": 10,
   "id": "a389799c",
   "metadata": {},
   "outputs": [
    {
     "name": "stdout",
     "output_type": "stream",
     "text": [
      "-1\n"
     ]
    }
   ],
   "source": [
    "c = a - b\n",
    "print(c)"
   ]
  },
  {
   "cell_type": "code",
   "execution_count": 11,
   "id": "6495644d",
   "metadata": {},
   "outputs": [
    {
     "name": "stdout",
     "output_type": "stream",
     "text": [
      "6\n"
     ]
    }
   ],
   "source": [
    "c = a * b\n",
    "print(c)"
   ]
  },
  {
   "cell_type": "code",
   "execution_count": 12,
   "id": "e41896fc",
   "metadata": {},
   "outputs": [
    {
     "name": "stdout",
     "output_type": "stream",
     "text": [
      "0\n"
     ]
    }
   ],
   "source": [
    "c = a // b\n",
    "print(c)"
   ]
  },
  {
   "cell_type": "code",
   "execution_count": 13,
   "id": "8dc88cba",
   "metadata": {},
   "outputs": [
    {
     "name": "stdout",
     "output_type": "stream",
     "text": [
      "8\n"
     ]
    }
   ],
   "source": [
    "c = a ** b\n",
    "print(c)"
   ]
  },
  {
   "cell_type": "markdown",
   "id": "64d258d3",
   "metadata": {},
   "source": [
    "# Print Function"
   ]
  },
  {
   "cell_type": "code",
   "execution_count": 15,
   "id": "0c852315",
   "metadata": {},
   "outputs": [
    {
     "name": "stdout",
     "output_type": "stream",
     "text": [
      "a is 3, b is 2, c is 1\n"
     ]
    }
   ],
   "source": [
    "a = 3\n",
    "b = 2\n",
    "c = 1\n",
    "print('a is {}, b is {}, c is {}'.format(a, b, c))"
   ]
  },
  {
   "cell_type": "code",
   "execution_count": 16,
   "id": "b73db81e",
   "metadata": {},
   "outputs": [
    {
     "name": "stdout",
     "output_type": "stream",
     "text": [
      "this is first line\n",
      "this is second line\n",
      "this is third line\n"
     ]
    }
   ],
   "source": [
    "print('this is first line\\nthis is second line\\nthis is third line')"
   ]
  },
  {
   "cell_type": "code",
   "execution_count": 17,
   "id": "2e2d6511",
   "metadata": {},
   "outputs": [
    {
     "name": "stdout",
     "output_type": "stream",
     "text": [
      "this is first line\\nthis is second line\\nthis is third line\n"
     ]
    }
   ],
   "source": [
    "print('this is first line\\\\nthis is second line\\\\nthis is third line')"
   ]
  },
  {
   "cell_type": "code",
   "execution_count": 18,
   "id": "66600291",
   "metadata": {},
   "outputs": [
    {
     "name": "stdout",
     "output_type": "stream",
     "text": [
      "this is a line\n"
     ]
    }
   ],
   "source": [
    "print('this is a line', end='\\n')"
   ]
  },
  {
   "cell_type": "code",
   "execution_count": 19,
   "id": "d2532136",
   "metadata": {},
   "outputs": [
    {
     "name": "stdout",
     "output_type": "stream",
     "text": [
      "abc\n",
      "def\n"
     ]
    }
   ],
   "source": [
    "print('abc')\n",
    "print('def')"
   ]
  },
  {
   "cell_type": "code",
   "execution_count": 20,
   "id": "e4030c80",
   "metadata": {},
   "outputs": [
    {
     "name": "stdout",
     "output_type": "stream",
     "text": [
      "this is first line.this is still first line"
     ]
    }
   ],
   "source": [
    "print('this is first line.', end='')\n",
    "print('this is still first line', end='')"
   ]
  },
  {
   "cell_type": "markdown",
   "id": "741e2079",
   "metadata": {},
   "source": [
    "# Input Function"
   ]
  },
  {
   "cell_type": "code",
   "execution_count": 21,
   "id": "d1cb5a73",
   "metadata": {},
   "outputs": [
    {
     "name": "stdout",
     "output_type": "stream",
     "text": [
      "input a number: 123\n",
      "you input 123\n"
     ]
    }
   ],
   "source": [
    "number = input('input a number: ')\n",
    "print('you input {}'.format(number))"
   ]
  },
  {
   "cell_type": "code",
   "execution_count": 25,
   "id": "e831a7c3",
   "metadata": {},
   "outputs": [
    {
     "name": "stdout",
     "output_type": "stream",
     "text": [
      "input a number: 234\n",
      "<class 'str'>\n"
     ]
    }
   ],
   "source": [
    "number = input('input a number: ')\n",
    "print(type(number))"
   ]
  },
  {
   "cell_type": "code",
   "execution_count": 26,
   "id": "c807a75d",
   "metadata": {},
   "outputs": [
    {
     "name": "stdout",
     "output_type": "stream",
     "text": [
      "input a number: 234\n",
      "<class 'float'>\n",
      "<class 'int'>\n"
     ]
    }
   ],
   "source": [
    "number = input('input a number: ')\n",
    "float_number = float(number)\n",
    "int_number = int(number)\n",
    "print(type(float_number))\n",
    "print(type(int_number))"
   ]
  },
  {
   "cell_type": "code",
   "execution_count": 27,
   "id": "a4c6f51e",
   "metadata": {},
   "outputs": [
    {
     "name": "stdout",
     "output_type": "stream",
     "text": [
      "input a width: 6\n",
      "input a height: 9\n",
      "are of rectangle is 54.0\n"
     ]
    }
   ],
   "source": [
    "width = input('input a width: ')\n",
    "height = input('input a height: ')\n",
    "\n",
    "rec_area = float(width) * float(height) \n",
    "print('are of rectangle is {}'.format(rec_area))"
   ]
  },
  {
   "cell_type": "code",
   "execution_count": null,
   "id": "6d4f21be",
   "metadata": {},
   "outputs": [],
   "source": []
  }
 ],
 "metadata": {
  "kernelspec": {
   "display_name": "Python 3 (ipykernel)",
   "language": "python",
   "name": "python3"
  },
  "language_info": {
   "codemirror_mode": {
    "name": "ipython",
    "version": 3
   },
   "file_extension": ".py",
   "mimetype": "text/x-python",
   "name": "python",
   "nbconvert_exporter": "python",
   "pygments_lexer": "ipython3",
   "version": "3.7.16"
  }
 },
 "nbformat": 4,
 "nbformat_minor": 5
}
