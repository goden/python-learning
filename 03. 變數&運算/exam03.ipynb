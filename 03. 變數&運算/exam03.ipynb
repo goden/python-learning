{
 "cells": [
  {
   "cell_type": "markdown",
   "id": "61adaf29",
   "metadata": {},
   "source": [
    "# Object"
   ]
  },
  {
   "cell_type": "code",
   "execution_count": 1,
   "id": "51da87bc",
   "metadata": {},
   "outputs": [
    {
     "name": "stdout",
     "output_type": "stream",
     "text": [
      "140611769447536\n",
      "140611769447536\n",
      "4444207744\n"
     ]
    }
   ],
   "source": [
    "a = 'hello'\n",
    "b = 'hello'\n",
    "c =  5\n",
    "print(id(a))\n",
    "print(id(b))\n",
    "print(id(c))"
   ]
  },
  {
   "cell_type": "code",
   "execution_count": 2,
   "id": "3f7e9357",
   "metadata": {},
   "outputs": [
    {
     "name": "stdout",
     "output_type": "stream",
     "text": [
      "<class 'str'>\n",
      "<class 'str'>\n",
      "<class 'int'>\n"
     ]
    }
   ],
   "source": [
    "print(type(a))\n",
    "print(type(b))\n",
    "print(type(c))"
   ]
  },
  {
   "cell_type": "code",
   "execution_count": 3,
   "id": "c6a03dc7",
   "metadata": {},
   "outputs": [
    {
     "name": "stdout",
     "output_type": "stream",
     "text": [
      "4444207744\n",
      "<class 'int'>\n"
     ]
    }
   ],
   "source": [
    "b = c\n",
    "print(id(b))\n",
    "print(type(b))"
   ]
  },
  {
   "cell_type": "markdown",
   "id": "8c4537c9",
   "metadata": {},
   "source": [
    "# Arithmetic Operators"
   ]
  },
  {
   "cell_type": "code",
   "execution_count": 4,
   "id": "739f5d0c",
   "metadata": {},
   "outputs": [
    {
     "name": "stdout",
     "output_type": "stream",
     "text": [
      "a + b = 8\n",
      "a - b = 2\n",
      "a * b = 15\n",
      "a / b = 1.6666666666666667\n",
      "a % b = 2\n",
      "a ** b = 125\n",
      "a // b = 1\n"
     ]
    }
   ],
   "source": [
    "a = 5\n",
    "b = 3\n",
    "\n",
    "sum_num = a + b\n",
    "sub_num = a - b\n",
    "mul_num = a * b\n",
    "div_num = a / b\n",
    "mod_num = a % b\n",
    "exp_num = a ** b\n",
    "int_div_num = a // b\n",
    "\n",
    "print('a + b = {}'.format(sum_num))\n",
    "print('a - b = {}'.format(sub_num))\n",
    "print('a * b = {}'.format(mul_num))\n",
    "print('a / b = {}'.format(div_num))\n",
    "print('a % b = {}'.format(mod_num))\n",
    "print('a ** b = {}'.format(exp_num))\n",
    "print('a // b = {}'.format(int_div_num))"
   ]
  },
  {
   "cell_type": "markdown",
   "id": "4bbf4c36",
   "metadata": {},
   "source": [
    "# Comparision Operators"
   ]
  },
  {
   "cell_type": "code",
   "execution_count": 5,
   "id": "acb970d5",
   "metadata": {},
   "outputs": [
    {
     "name": "stdout",
     "output_type": "stream",
     "text": [
      "False\n",
      "True\n",
      "True\n",
      "False\n",
      "True\n",
      "False\n"
     ]
    }
   ],
   "source": [
    "a = 5\n",
    "b = 3\n",
    "\n",
    "print((a == b))\n",
    "print((a != b))\n",
    "print((a > b))\n",
    "print((a < b))\n",
    "print((a >= b))\n",
    "print((a <= b))"
   ]
  },
  {
   "cell_type": "markdown",
   "id": "0dd7c2fa",
   "metadata": {},
   "source": [
    "# Assignment Operators"
   ]
  },
  {
   "cell_type": "code",
   "execution_count": 6,
   "id": "6d54b3e2",
   "metadata": {},
   "outputs": [
    {
     "name": "stdout",
     "output_type": "stream",
     "text": [
      "8\n",
      "3\n",
      "6\n",
      "3.0\n"
     ]
    }
   ],
   "source": [
    "a = 5\n",
    "\n",
    "a = a + 3 # a+=3\n",
    "print(a)\n",
    "a = a -5 # a-=3\n",
    "print(a)\n",
    "a = a * 2 # a*=3\n",
    "print(a)\n",
    "a = a / 2 # a/=3\n",
    "print(a)"
   ]
  },
  {
   "cell_type": "markdown",
   "id": "e4b3f5dd",
   "metadata": {},
   "source": [
    "# Logical Operators"
   ]
  },
  {
   "cell_type": "code",
   "execution_count": 7,
   "id": "16f9d6ef",
   "metadata": {},
   "outputs": [
    {
     "name": "stdout",
     "output_type": "stream",
     "text": [
      "False\n"
     ]
    }
   ],
   "source": [
    "a = True\n",
    "b = False\n",
    "print(a and b)"
   ]
  },
  {
   "cell_type": "code",
   "execution_count": 8,
   "id": "82fa7d57",
   "metadata": {},
   "outputs": [
    {
     "name": "stdout",
     "output_type": "stream",
     "text": [
      "True\n"
     ]
    }
   ],
   "source": [
    "print(a or b)"
   ]
  },
  {
   "cell_type": "code",
   "execution_count": 9,
   "id": "c25b119d",
   "metadata": {},
   "outputs": [
    {
     "name": "stdout",
     "output_type": "stream",
     "text": [
      "False\n"
     ]
    }
   ],
   "source": [
    "print(not a)"
   ]
  },
  {
   "cell_type": "markdown",
   "id": "16072082",
   "metadata": {},
   "source": [
    "# Membership Operators"
   ]
  },
  {
   "cell_type": "code",
   "execution_count": 10,
   "id": "476e027d",
   "metadata": {},
   "outputs": [
    {
     "name": "stdout",
     "output_type": "stream",
     "text": [
      "True\n"
     ]
    }
   ],
   "source": [
    "a = 5\n",
    "b = [1, 2, 3, 5, 6]\n",
    "print(a in b)"
   ]
  },
  {
   "cell_type": "code",
   "execution_count": 11,
   "id": "eacfe9eb",
   "metadata": {},
   "outputs": [
    {
     "name": "stdout",
     "output_type": "stream",
     "text": [
      "False\n"
     ]
    }
   ],
   "source": [
    "print(a not in b)"
   ]
  },
  {
   "cell_type": "markdown",
   "id": "075cad26",
   "metadata": {},
   "source": [
    "# Identity Operators"
   ]
  },
  {
   "cell_type": "code",
   "execution_count": 13,
   "id": "667b573b",
   "metadata": {},
   "outputs": [
    {
     "name": "stdout",
     "output_type": "stream",
     "text": [
      "False\n"
     ]
    }
   ],
   "source": [
    "print(a is b)"
   ]
  },
  {
   "cell_type": "code",
   "execution_count": 14,
   "id": "7ef441aa",
   "metadata": {},
   "outputs": [
    {
     "name": "stdout",
     "output_type": "stream",
     "text": [
      "True\n"
     ]
    }
   ],
   "source": [
    "print(a is not b)"
   ]
  },
  {
   "cell_type": "markdown",
   "id": "cbf3e512",
   "metadata": {},
   "source": [
    "# Bitwise Operators"
   ]
  },
  {
   "cell_type": "code",
   "execution_count": 15,
   "id": "ee73c890",
   "metadata": {},
   "outputs": [
    {
     "name": "stdout",
     "output_type": "stream",
     "text": [
      "0\n",
      "14\n"
     ]
    }
   ],
   "source": [
    "a = 10\n",
    "b = 4\n",
    "print(a & b)\n",
    "print(a | b)"
   ]
  },
  {
   "cell_type": "code",
   "execution_count": 16,
   "id": "228815ed",
   "metadata": {},
   "outputs": [
    {
     "name": "stdout",
     "output_type": "stream",
     "text": [
      "2\n",
      "40\n"
     ]
    }
   ],
   "source": [
    "a = 10\n",
    "print(a >> 2)\n",
    "print(a << 2)"
   ]
  }
 ],
 "metadata": {
  "kernelspec": {
   "display_name": "Python 3 (ipykernel)",
   "language": "python",
   "name": "python3"
  },
  "language_info": {
   "codemirror_mode": {
    "name": "ipython",
    "version": 3
   },
   "file_extension": ".py",
   "mimetype": "text/x-python",
   "name": "python",
   "nbconvert_exporter": "python",
   "pygments_lexer": "ipython3",
   "version": "3.7.16"
  }
 },
 "nbformat": 4,
 "nbformat_minor": 5
}
