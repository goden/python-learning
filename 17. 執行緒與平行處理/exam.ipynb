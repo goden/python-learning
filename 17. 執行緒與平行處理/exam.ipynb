{
 "cells": [
  {
   "cell_type": "markdown",
   "id": "d91bf9d9",
   "metadata": {},
   "source": [
    "# Open Process"
   ]
  },
  {
   "cell_type": "code",
   "execution_count": 4,
   "id": "f88871dc",
   "metadata": {},
   "outputs": [
    {
     "name": "stdout",
     "output_type": "stream",
     "text": [
      "info of note process: <subprocess.Popen object at 0x7fe79a322c10>\n",
      "/Users/goden/labs/python-learning/17. 執行緒與平行處理\n",
      "info of note process: <subprocess.Popen object at 0x7fe79a22ad90>\n",
      "goden\n"
     ]
    }
   ],
   "source": [
    "from subprocess import Popen\n",
    "\n",
    "note = Popen('pwd')\n",
    "print('info of note process: {}'.format(note))\n",
    "\n",
    "note = Popen('whoami')\n",
    "print('info of note process: {}'.format(note))"
   ]
  },
  {
   "cell_type": "markdown",
   "id": "7d7f81b8",
   "metadata": {},
   "source": [
    "# Thread"
   ]
  },
  {
   "cell_type": "code",
   "execution_count": 5,
   "id": "af3bb42e",
   "metadata": {},
   "outputs": [
    {
     "name": "stdout",
     "output_type": "stream",
     "text": [
      "Child thread:Main thread: 0\n",
      " 0\n",
      "Main thread:Child thread: 1\n",
      " 1\n",
      "Child thread:Main thread: 2\n",
      " 2\n",
      "Child thread: 3\n",
      "Child thread: 4\n",
      "Done.\n"
     ]
    }
   ],
   "source": [
    "import threading\n",
    "import time\n",
    "\n",
    "# 子執行緒的工作函數\n",
    "def job():\n",
    "    for i in range(5):\n",
    "        print(\"Child thread:\", i)\n",
    "        time.sleep(1)\n",
    "\n",
    "# 建立一個子執行緒\n",
    "t = threading.Thread(target = job)\n",
    "\n",
    "# 執行該子執行緒\n",
    "t.start()\n",
    "\n",
    "# 主執行緒繼續執行自己的工作\n",
    "for i in range(3):\n",
    "    print(\"Main thread:\", i)\n",
    "    time.sleep(1)\n",
    "\n",
    "# 等待 t 這個子執行緒結束\n",
    "t.join()\n",
    "\n",
    "print(\"Done.\")"
   ]
  }
 ],
 "metadata": {
  "kernelspec": {
   "display_name": "Python 3 (ipykernel)",
   "language": "python",
   "name": "python3"
  },
  "language_info": {
   "codemirror_mode": {
    "name": "ipython",
    "version": 3
   },
   "file_extension": ".py",
   "mimetype": "text/x-python",
   "name": "python",
   "nbconvert_exporter": "python",
   "pygments_lexer": "ipython3",
   "version": "3.7.16"
  }
 },
 "nbformat": 4,
 "nbformat_minor": 5
}
