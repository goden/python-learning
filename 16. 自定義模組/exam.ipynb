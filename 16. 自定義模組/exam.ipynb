{
 "cells": [
  {
   "cell_type": "markdown",
   "id": "2704b64a",
   "metadata": {},
   "source": [
    "# Import"
   ]
  },
  {
   "cell_type": "code",
   "execution_count": 1,
   "id": "e201c783",
   "metadata": {},
   "outputs": [
    {
     "name": "stdout",
     "output_type": "stream",
     "text": [
      "hello!!!\n",
      "large cola\n"
     ]
    }
   ],
   "source": [
    "import makefood\n",
    "\n",
    "makefood.say_hello()\n",
    "makefood.make_drink('large','cola')"
   ]
  },
  {
   "cell_type": "markdown",
   "id": "c2cda3b5",
   "metadata": {},
   "source": [
    "# From ... Import"
   ]
  },
  {
   "cell_type": "code",
   "execution_count": 2,
   "id": "f4b47653",
   "metadata": {},
   "outputs": [
    {
     "name": "stdout",
     "output_type": "stream",
     "text": [
      "3.141592653589793\n"
     ]
    }
   ],
   "source": [
    "from math import pi\n",
    "\n",
    "print(pi)"
   ]
  },
  {
   "cell_type": "code",
   "execution_count": 3,
   "id": "facc7164",
   "metadata": {},
   "outputs": [
    {
     "name": "stdout",
     "output_type": "stream",
     "text": [
      "hello!!!\n",
      "None\n"
     ]
    }
   ],
   "source": [
    "from makefood import say_hello\n",
    "\n",
    "print(say_hello())"
   ]
  }
 ],
 "metadata": {
  "kernelspec": {
   "display_name": "Python 3 (ipykernel)",
   "language": "python",
   "name": "python3"
  },
  "language_info": {
   "codemirror_mode": {
    "name": "ipython",
    "version": 3
   },
   "file_extension": ".py",
   "mimetype": "text/x-python",
   "name": "python",
   "nbconvert_exporter": "python",
   "pygments_lexer": "ipython3",
   "version": "3.7.16"
  }
 },
 "nbformat": 4,
 "nbformat_minor": 5
}
