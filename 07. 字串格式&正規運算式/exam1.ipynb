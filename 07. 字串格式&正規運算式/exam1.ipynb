{
 "cells": [
  {
   "cell_type": "markdown",
   "id": "7d45275a",
   "metadata": {},
   "source": [
    "# String Format"
   ]
  },
  {
   "cell_type": "code",
   "execution_count": 1,
   "id": "63e29a56",
   "metadata": {},
   "outputs": [
    {
     "name": "stdout",
     "output_type": "stream",
     "text": [
      "a = 3, b = 2.1, c = hello\n",
      "a = 3, b = 2.1, c = hello\n",
      "c = hello, b = 2.1, a = 3\n"
     ]
    }
   ],
   "source": [
    "a = 3\n",
    "b = 2.1\n",
    "c = 'hello'\n",
    "print('a = {}, b = {}, c = {}'.format(a, b, c))\n",
    "print('a = {0}, b = {1}, c = {2}'.format(a, b, c))\n",
    "print('c = {2}, b = {1}, a = {0}'.format(a, b, c))"
   ]
  },
  {
   "cell_type": "code",
   "execution_count": 2,
   "id": "23127125",
   "metadata": {},
   "outputs": [
    {
     "name": "stdout",
     "output_type": "stream",
     "text": [
      "abc, edf\n"
     ]
    }
   ],
   "source": [
    "a = 'abc'\n",
    "b = 'edf'\n",
    "\n",
    "print('{text1}, {text2}'.format(text1=a, text2=b))"
   ]
  },
  {
   "cell_type": "code",
   "execution_count": 3,
   "id": "6e75c98c",
   "metadata": {},
   "outputs": [
    {
     "name": "stdout",
     "output_type": "stream",
     "text": [
      "abc, edf\n"
     ]
    }
   ],
   "source": [
    "my_list = ['abc', 'edf']\n",
    "print('{0[0]}, {0[1]}'.format(my_list))"
   ]
  },
  {
   "cell_type": "code",
   "execution_count": 4,
   "id": "5506272a",
   "metadata": {},
   "outputs": [
    {
     "name": "stdout",
     "output_type": "stream",
     "text": [
      "abc, edf\n"
     ]
    }
   ],
   "source": [
    "my_tuple = ('abc', 'edf')\n",
    "print('{0[0]}, {0[1]}'.format(my_tuple))"
   ]
  },
  {
   "cell_type": "code",
   "execution_count": 5,
   "id": "22ac8d5e",
   "metadata": {},
   "outputs": [
    {
     "name": "stdout",
     "output_type": "stream",
     "text": [
      "         3\n",
      "  2.112321\n",
      "      2.11\n",
      "hello     \n"
     ]
    }
   ],
   "source": [
    "a = 3\n",
    "b = 2.112321345566\n",
    "c = 'hello'\n",
    "print('{0:10d}'.format(a))\n",
    "print('{0:10f}'.format(b))\n",
    "print('{0:10.2f}'.format(b))\n",
    "print('{0:10s}'.format(c))"
   ]
  },
  {
   "cell_type": "code",
   "execution_count": 6,
   "id": "c22285d5",
   "metadata": {},
   "outputs": [
    {
     "name": "stdout",
     "output_type": "stream",
     "text": [
      "         3\n",
      "  2.112321\n",
      "      2.11\n",
      "     hello\n"
     ]
    }
   ],
   "source": [
    "a = 3\n",
    "b = 2.112321345566\n",
    "c = 'hello'\n",
    "print('{0:>10d}'.format(a))\n",
    "print('{0:>10f}'.format(b))\n",
    "print('{0:>10.2f}'.format(b))\n",
    "print('{0:>10s}'.format(c))"
   ]
  },
  {
   "cell_type": "code",
   "execution_count": 7,
   "id": "6dee27ed",
   "metadata": {},
   "outputs": [
    {
     "name": "stdout",
     "output_type": "stream",
     "text": [
      "3         \n",
      "2.112321  \n",
      "2.11      \n",
      "hello     \n"
     ]
    }
   ],
   "source": [
    "a = 3\n",
    "b = 2.112321345566\n",
    "c = 'hello'\n",
    "print('{0:<10d}'.format(a))\n",
    "print('{0:<10f}'.format(b))\n",
    "print('{0:<10.2f}'.format(b))\n",
    "print('{0:<10s}'.format(c))"
   ]
  },
  {
   "cell_type": "code",
   "execution_count": 8,
   "id": "a16f219c",
   "metadata": {},
   "outputs": [
    {
     "name": "stdout",
     "output_type": "stream",
     "text": [
      "    3     \n",
      " 2.112321 \n",
      "   2.11   \n",
      "  hello   \n"
     ]
    }
   ],
   "source": [
    "a = 3\n",
    "b = 2.112321345566\n",
    "c = 'hello'\n",
    "print('{0:^10d}'.format(a))\n",
    "print('{0:^10f}'.format(b))\n",
    "print('{0:^10.2f}'.format(b))\n",
    "print('{0:^10s}'.format(c))"
   ]
  },
  {
   "cell_type": "code",
   "execution_count": 9,
   "id": "313b9266",
   "metadata": {},
   "outputs": [
    {
     "name": "stdout",
     "output_type": "stream",
     "text": [
      "int: 1273212, bin: 100110110110101111100, oct: 4666574, hex: 136d7c\n",
      "int: 1273212, bin: 0b100110110110101111100, oct: 0o4666574, hex: 0x136d7c\n",
      "1,273,212\n"
     ]
    }
   ],
   "source": [
    "a = 1273212\n",
    "print('int: {0:d}, bin: {0:b}, oct: {0:o}, hex: {0:x}'.format(a))\n",
    "print('int: {0:#d}, bin: {0:#b}, oct: {0:#o}, hex: {0:#x}'.format(a))\n",
    "print('{:,}'.format(a))"
   ]
  },
  {
   "cell_type": "code",
   "execution_count": 10,
   "id": "2e99a1c0",
   "metadata": {},
   "outputs": [
    {
     "name": "stdout",
     "output_type": "stream",
     "text": [
      "2020-01-01 12:33:43\n"
     ]
    }
   ],
   "source": [
    "import datetime\n",
    "\n",
    "d = datetime.datetime(2020, 1, 1, 12, 33, 43)\n",
    "print('{:%Y-%m-%d %H:%M:%S}'.format(d))"
   ]
  }
 ],
 "metadata": {
  "kernelspec": {
   "display_name": "Python 3 (ipykernel)",
   "language": "python",
   "name": "python3"
  },
  "language_info": {
   "codemirror_mode": {
    "name": "ipython",
    "version": 3
   },
   "file_extension": ".py",
   "mimetype": "text/x-python",
   "name": "python",
   "nbconvert_exporter": "python",
   "pygments_lexer": "ipython3",
   "version": "3.7.16"
  }
 },
 "nbformat": 4,
 "nbformat_minor": 5
}
