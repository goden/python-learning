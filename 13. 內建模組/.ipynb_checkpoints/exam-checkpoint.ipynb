{
 "cells": [
  {
   "cell_type": "markdown",
   "id": "b9504855",
   "metadata": {},
   "source": [
    "# Datetime"
   ]
  },
  {
   "cell_type": "code",
   "execution_count": 2,
   "id": "ed91c018",
   "metadata": {},
   "outputs": [
    {
     "name": "stdout",
     "output_type": "stream",
     "text": [
      "2024-08-27 02:21:10.165382\n"
     ]
    }
   ],
   "source": [
    "from datetime import datetime as dt\n",
    "\n",
    "print(dt.now())"
   ]
  },
  {
   "cell_type": "code",
   "execution_count": 3,
   "id": "eb599145",
   "metadata": {},
   "outputs": [
    {
     "name": "stdout",
     "output_type": "stream",
     "text": [
      "2024-08-27 02:50:44\n"
     ]
    }
   ],
   "source": [
    "import datetime\n",
    "datetime_dt = datetime.datetime.today()# 獲得當地時間\n",
    "datetime_str = datetime_dt.strftime(\"%Y-%m-%d %H:%M:%S\")  # 格式化日期\n",
    "print(datetime_str)"
   ]
  },
  {
   "cell_type": "code",
   "execution_count": 4,
   "id": "1dcbcfd6",
   "metadata": {},
   "outputs": [
    {
     "name": "stdout",
     "output_type": "stream",
     "text": [
      "2024/08/27 05:51:16\n"
     ]
    }
   ],
   "source": [
    "import datetime\n",
    "\n",
    "datetime_dt = datetime.datetime.today() # 獲得當地時間\n",
    "time_delta = datetime.timedelta(hours=3) #時差\n",
    "new_dt = datetime_dt + time_delta #本地時間加3小時\n",
    "datetime_format = new_dt.strftime(\"%Y/%m/%d %H:%M:%S\")  # 格式化日期(最小單位到秒)\n",
    "print(datetime_format)"
   ]
  },
  {
   "cell_type": "code",
   "execution_count": 5,
   "id": "5cc4c5e8",
   "metadata": {},
   "outputs": [
    {
     "name": "stdout",
     "output_type": "stream",
     "text": [
      "現在是 2024年 8月 27日\n"
     ]
    }
   ],
   "source": [
    "import datetime\n",
    "\n",
    "datetime_dt = datetime.datetime.today() # 獲得當地時間\n",
    "dt = datetime_dt.date() # 最小日期顯示到日\n",
    "print(\"現在是 {}年 {}月 {}日\".format(dt.year, dt.month, dt.day))"
   ]
  },
  {
   "cell_type": "code",
   "execution_count": 6,
   "id": "38e12373",
   "metadata": {},
   "outputs": [
    {
     "name": "stdout",
     "output_type": "stream",
     "text": [
      "test test test test test test test test test test test test test test test test test test test test test test test test test test test test test test test test test test test test test test test test test test test test test test test test test test test test test test test test test test test test test test test test test test test test test test test test test test test test test test test test test test test test test test test test test test test test test test test test test test test test test test test test test test test test test test test test test test test test test test test test test test test test test test test test test test test test test test test test test test test test test test test test test test test test test test test test test test test test test test test test test test test test test test test test test test test test test test test test test test test test test test test test test test test test test test test test test test test test test test test test test test test test test test test test test test test test test test test test test test test test test test test test test test test test test test test test test test test test test test test test test test test test test test test test test test test test test test test test test test test test test test test test test test test test test test test test test test test test test test test test test test test test test test test test test test test test test test test test test test test test test test test test test test test test test test test test test test test test test test test test test test test test test test test test test test test test test test test test test test test test test test test test test test test test test test test test test test test test test test test test test test test test test test test test test test test test test test test test test test test test test test test test test test test test test test test test test test test test test test test test test test test test test test test test test test test test test test test test test test test test test test test test test test test test test test test test test test test test test test test test test test test test test test test test test test test test test test test test test test test test test test test test test test test test test test test test test test test test test test test test test test test test test test test test test test test test test test test test test test test test test test test test test test test test test test test test test test test test test test test test test test test test test test test test test test test test test test test test test test test test test test test test test test test test test test test test test test test test test test test test test test test test test test test test test test test test test test test test test test test test test test test test test test test test test test test test test test test test test test test test test test test test test test test test test test test test test test test test test test test test test test test test test test test test test test test test test test test test test test test test test test test test test test test test test test test test test test test test test test test test test test test test test test test test test test test test test test test test test test test test test test test test test test test test test test test test test test test test test test test test test test test test test test test test test test test test test test test test test test test test test test test test test test test test test test test test test test test test test test test test test test test test test test test test test test test test test test test test test test test test test test test test test test test test test test test test test test test test test test test test test test test test test test test test test test test test test test test test test test test test test test test test test test test test test test test test test test test test test test test test test test test test test test test test test test test test test test test test test test test test test test test test test test test test test test test test test test test test test test test test test test test test test test test test test test test test test test test test test test test test test test test test test test test test test test test test test test test test test test test test test test test test test test test test test test test test test test test test test test test test test test test test test test test test test test test test test test test test test test test test test test test test test test test test test test test test test test test test test test test test test test test test test test test test test test test test test test test test test test test test test test test test test test test test test test test test test test test test test test test test \n",
      "0:00:00.058052\n"
     ]
    }
   ],
   "source": [
    "import datetime\n",
    "\n",
    "starttime = datetime.datetime.now() #開始計算時間\n",
    "##############\n",
    " \n",
    "for i in range(1000):\n",
    "    for j in range(1000):\n",
    "        continue\n",
    "    print('test ' ,end='')\n",
    "##############\n",
    "print('')\n",
    "endtime = datetime.datetime.now() #結束時間\n",
    "print(endtime - starttime) #程式執行時間"
   ]
  },
  {
   "cell_type": "markdown",
   "id": "69893916",
   "metadata": {},
   "source": [
    "# Math"
   ]
  },
  {
   "cell_type": "code",
   "execution_count": 7,
   "id": "5b48d7df",
   "metadata": {},
   "outputs": [
    {
     "name": "stdout",
     "output_type": "stream",
     "text": [
      "2\n",
      "1\n",
      "8.0\n",
      "0.0\n",
      "1.0\n",
      "2.718281828459045\n",
      "3.141592653589793\n",
      "0.0\n",
      "7.38905609893065\n"
     ]
    }
   ],
   "source": [
    "import math\n",
    "\n",
    "x1 = math.ceil(1.4)\n",
    "x2 = math.floor(1.4)\n",
    "x3 = math.sqrt(64)\n",
    "x4 = math.sin(0)\n",
    "x5 = math.cos(0)\n",
    "x6 = math.e\n",
    "x7 = math.pi\n",
    "x8 = math.log(1)\n",
    "x9 = math.exp(2)\n",
    "\n",
    "\n",
    "print(x1)\n",
    "print(x2)\n",
    "print(x3)\n",
    "print(x4)\n",
    "print(x5)\n",
    "print(x6)\n",
    "print(x7)\n",
    "print(x8)\n",
    "print(x9)"
   ]
  },
  {
   "cell_type": "markdown",
   "id": "07309409",
   "metadata": {},
   "source": [
    "# Random"
   ]
  },
  {
   "cell_type": "code",
   "execution_count": 14,
   "id": "2122ec62",
   "metadata": {},
   "outputs": [
    {
     "name": "stdout",
     "output_type": "stream",
     "text": [
      "0.5714025946899135\n"
     ]
    }
   ],
   "source": [
    "import random\n",
    "random.seed(10)\n",
    "\n",
    "print(random.random())"
   ]
  },
  {
   "cell_type": "code",
   "execution_count": 15,
   "id": "2e7bc96e",
   "metadata": {},
   "outputs": [
    {
     "name": "stdout",
     "output_type": "stream",
     "text": [
      "6\n"
     ]
    }
   ],
   "source": [
    "import random\n",
    "\n",
    "print(random.randrange(3, 9))"
   ]
  },
  {
   "cell_type": "code",
   "execution_count": 16,
   "id": "3179836f",
   "metadata": {},
   "outputs": [
    {
     "name": "stdout",
     "output_type": "stream",
     "text": [
      "['cherry', 'apple', 'banana']\n"
     ]
    }
   ],
   "source": [
    "import random\n",
    "\n",
    "mylist = [\"apple\", \"banana\", \"cherry\"]\n",
    "random.shuffle(mylist) # 嶞機洗亂\n",
    "\n",
    "print(mylist)"
   ]
  },
  {
   "cell_type": "code",
   "execution_count": 18,
   "id": "0aae4c6d",
   "metadata": {},
   "outputs": [
    {
     "name": "stdout",
     "output_type": "stream",
     "text": [
      "['banana', 'cherry']\n"
     ]
    }
   ],
   "source": [
    "import random\n",
    "\n",
    "mylist = [\"apple\", \"banana\", \"cherry\"]\n",
    "\n",
    "print(random.sample(mylist, k=2))  # only pick 2 random from list"
   ]
  },
  {
   "cell_type": "code",
   "execution_count": 21,
   "id": "2c48c7e1",
   "metadata": {},
   "outputs": [
    {
     "name": "stdout",
     "output_type": "stream",
     "text": [
      "['apple', 'apple', 'apple', 'apple', 'apple', 'banana', 'apple', 'apple', 'apple', 'apple', 'apple', 'apple', 'apple', 'apple']\n"
     ]
    }
   ],
   "source": [
    "import random\n",
    "\n",
    "mylist = [\"apple\", \"banana\", \"cherry\"]\n",
    "\n",
    "# indicates random pick 14 items whick contains 10 apples, 1 banana, 1 cherry.\n",
    "print(random.choices(mylist, weights = [10, 1, 1], k = 14))"
   ]
  },
  {
   "cell_type": "markdown",
   "id": "fb8c23a2",
   "metadata": {},
   "source": [
    "# OS"
   ]
  },
  {
   "cell_type": "code",
   "execution_count": 33,
   "id": "8fbd9dc0",
   "metadata": {},
   "outputs": [
    {
     "name": "stdout",
     "output_type": "stream",
     "text": [
      "/opt/anaconda3/bin:/opt/anaconda3/condabin:/Library/Frameworks/Python.framework/Versions/3.12/bin:/usr/local/bin:/System/Cryptexes/App/usr/bin:/usr/bin:/bin:/usr/sbin:/sbin:/Library/Apple/usr/bin:/var/run/com.apple.security.cryptexd/codex.system/bootstrap/usr/local/bin:/var/run/com.apple.security.cryptexd/codex.system/bootstrap/usr/bin:/var/run/com.apple.security.cryptexd/codex.system/bootstrap/usr/appleinternal/bin:/Users/goden/apache-maven-3.9.6/bin\n",
      "==============\n",
      "/Users/goden\n",
      "==============\n",
      "/dev/tty\n"
     ]
    }
   ],
   "source": [
    "import os\n",
    "\n",
    "print(os.environ.get('PATH'))          #取得環境變數內容\n",
    "print('==============')\n",
    "print(os.path.expanduser('~'))         #取得家目錄路徑\n",
    "print('==============')\n",
    "print(os.ctermid())"
   ]
  },
  {
   "cell_type": "code",
   "execution_count": 28,
   "id": "ff63e1fc",
   "metadata": {},
   "outputs": [],
   "source": [
    "os.rename(\"123.txt\", \"456.txt\") # rename file"
   ]
  },
  {
   "cell_type": "code",
   "execution_count": 29,
   "id": "e1ffdb5d",
   "metadata": {},
   "outputs": [],
   "source": [
    "os.remove(\"456.txt\")"
   ]
  },
  {
   "cell_type": "code",
   "execution_count": 30,
   "id": "3bd37e7b",
   "metadata": {},
   "outputs": [
    {
     "name": "stdout",
     "output_type": "stream",
     "text": [
      "my_folder已經建立！\n"
     ]
    }
   ],
   "source": [
    "# os.mkdir(\"my_folder\")\n",
    "\n",
    "dir='my_folder'\n",
    "if not os.path.exists(dir):\n",
    "    os.mkdir(dir)\n",
    "else:\n",
    "    print(dir + '已經建立！')"
   ]
  },
  {
   "cell_type": "code",
   "execution_count": 31,
   "id": "c04a7739",
   "metadata": {},
   "outputs": [
    {
     "name": "stdout",
     "output_type": "stream",
     "text": [
      "/Users/goden/labs/python-learning/13. 內建模組\n"
     ]
    }
   ],
   "source": [
    "print(os.getcwd())                     # 取得當前工作目錄"
   ]
  },
  {
   "cell_type": "code",
   "execution_count": 34,
   "id": "74025cb3",
   "metadata": {},
   "outputs": [
    {
     "name": "stdout",
     "output_type": "stream",
     "text": [
      ".localized\n",
      "Shared\n",
      "Guest\n",
      "goden\n"
     ]
    }
   ],
   "source": [
    "folders = os.listdir('/Users')   # 取得指定目錄下的所有目錄\n",
    "\n",
    "for folder in folders:\n",
    "    print(folder)"
   ]
  },
  {
   "cell_type": "markdown",
   "id": "b267263a",
   "metadata": {},
   "source": [
    "# Shutil"
   ]
  },
  {
   "cell_type": "code",
   "execution_count": 43,
   "id": "d765207e",
   "metadata": {},
   "outputs": [
    {
     "name": "stdout",
     "output_type": "stream",
     "text": [
      "level1.txt\n",
      "level2\n",
      "level1-new.txt\n",
      ".ipynb_checkpoints\n"
     ]
    }
   ],
   "source": [
    "import shutil\n",
    "import os\n",
    "\n",
    "src = './my_folder'\n",
    "clone = './my_new_folder'\n",
    "\n",
    "# os.mkdir(clone)\n",
    "\n",
    "if not os.path.exists(clone):\n",
    "    print('initial a deep copy from {} to {}'.format(src, clone))\n",
    "    shutil.copytree(src, clone)\n",
    "    \n",
    "    print('traverse the each folder.')\n",
    "    folders = os.listdir(clone)\n",
    "    for folder in folders:\n",
    "        print(folder)\n",
    "else:\n",
    "    print('{} does exist and initiate a deep removal'.format(clone))\n",
    "    shutil.rmtree(clone)"
   ]
  },
  {
   "cell_type": "code",
   "execution_count": 42,
   "id": "3ab6bf32",
   "metadata": {},
   "outputs": [],
   "source": [
    "shutil.rmtree('./my_new_folder')"
   ]
  },
  {
   "cell_type": "code",
   "execution_count": 50,
   "id": "f948ecf8",
   "metadata": {},
   "outputs": [
    {
     "name": "stdout",
     "output_type": "stream",
     "text": [
      "level1.txt has been copied.\n"
     ]
    }
   ],
   "source": [
    "filename = 'level1.txt'\n",
    "\n",
    "# duplcate a file if file does not exist.\n",
    "# remove the file if file does exist.\n",
    "if not os.path.exists(filename):\n",
    "    shutil.copyfile('./my_folder/' + filename, filename)\n",
    "    print('{} has been copied.'.format(filename))\n",
    "else:\n",
    "    os.remove(filename)\n",
    "    print('{} has been removed.'.format(filename))"
   ]
  }
 ],
 "metadata": {
  "kernelspec": {
   "display_name": "Python 3 (ipykernel)",
   "language": "python",
   "name": "python3"
  },
  "language_info": {
   "codemirror_mode": {
    "name": "ipython",
    "version": 3
   },
   "file_extension": ".py",
   "mimetype": "text/x-python",
   "name": "python",
   "nbconvert_exporter": "python",
   "pygments_lexer": "ipython3",
   "version": "3.7.16"
  }
 },
 "nbformat": 4,
 "nbformat_minor": 5
}
