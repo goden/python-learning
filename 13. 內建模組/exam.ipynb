{
 "cells": [
  {
   "cell_type": "markdown",
   "id": "380f3cab",
   "metadata": {},
   "source": [
    "# Datetime"
   ]
  },
  {
   "cell_type": "code",
   "execution_count": 2,
   "id": "b96e9e05",
   "metadata": {},
   "outputs": [
    {
     "name": "stdout",
     "output_type": "stream",
     "text": [
      "2024-08-27 02:21:10.165382\n"
     ]
    }
   ],
   "source": [
    "from datetime import datetime as dt\n",
    "\n",
    "print(dt.now())"
   ]
  },
  {
   "cell_type": "code",
   "execution_count": 3,
   "id": "ff722de7",
   "metadata": {},
   "outputs": [
    {
     "name": "stdout",
     "output_type": "stream",
     "text": [
      "2024-08-27 02:50:44\n"
     ]
    }
   ],
   "source": [
    "import datetime\n",
    "datetime_dt = datetime.datetime.today()# 獲得當地時間\n",
    "datetime_str = datetime_dt.strftime(\"%Y-%m-%d %H:%M:%S\")  # 格式化日期\n",
    "print(datetime_str)"
   ]
  },
  {
   "cell_type": "code",
   "execution_count": 4,
   "id": "3b7f2b9a",
   "metadata": {},
   "outputs": [
    {
     "name": "stdout",
     "output_type": "stream",
     "text": [
      "2024/08/27 05:51:16\n"
     ]
    }
   ],
   "source": [
    "import datetime\n",
    "\n",
    "datetime_dt = datetime.datetime.today() # 獲得當地時間\n",
    "time_delta = datetime.timedelta(hours=3) #時差\n",
    "new_dt = datetime_dt + time_delta #本地時間加3小時\n",
    "datetime_format = new_dt.strftime(\"%Y/%m/%d %H:%M:%S\")  # 格式化日期(最小單位到秒)\n",
    "print(datetime_format)"
   ]
  },
  {
   "cell_type": "code",
   "execution_count": 5,
   "id": "932729c7",
   "metadata": {},
   "outputs": [
    {
     "name": "stdout",
     "output_type": "stream",
     "text": [
      "現在是 2024年 8月 27日\n"
     ]
    }
   ],
   "source": [
    "import datetime\n",
    "\n",
    "datetime_dt = datetime.datetime.today() # 獲得當地時間\n",
    "dt = datetime_dt.date() # 最小日期顯示到日\n",
    "print(\"現在是 {}年 {}月 {}日\".format(dt.year, dt.month, dt.day))"
   ]
  },
  {
   "cell_type": "code",
   "execution_count": 6,
   "id": "20723063",
   "metadata": {},
   "outputs": [
    {
     "name": "stdout",
     "output_type": "stream",
     "text": [
      "test test test test test test test test test test test test test test test test test test test test test test test test test test test test test test test test test test test test test test test test test test test test test test test test test test test test test test test test test test test test test test test test test test test test test test test test test test test test test test test test test test test test test test test test test test test test test test test test test test test test test test test test test test test test test test test test test test test test test test test test test test test test test test test test test test test test test test test test test test test test test test test test test test test test test test test test test test test test test test test test test test test test test test test test test test test test test test test test test test test test test test test test test test test test test test test test test test test test test test test test test test test test test test test test test test test test test test test test test test test test test test test test test test test test test test test test test test test test test test test test test test test test test test test test test test test test test test test test test test test test test test test test test test test test test test test test test test test test test test test test test test test test test test test test test test test test test test test test test test test test test test test test test test test test test test test test test test test test test test test test test test test test test test test test test test test test test test test test test test test test test test test test test test test test test test test test test test test test test test test test test test test test test test test test test test test test test test test test test test test test test test test test test test test test test test test test test test test test test test test test test test test test test test test test test test test test test test test test test test test test test test test test test test test test test test test test test test test test test test test test test test test test test test test test test test test test test test test test test test test test test test test test test test test test test test test test test test test test test test test test test test test test test test test test test test test test test test test test test test test test test test test test test test test test test test test test test test test test test test test test test test test test test test test test test test test test test test test test test test test test test test test test test test test test test test test test test test test test test test test test test test test test test test test test test test test test test test test test test test test test test test test test test test test test test test test test test test test test test test test test test test test test test test test test test test test test test test test test test test test test test test test test test test test test test test test test test test test test test test test test test test test test test test test test test test test test test test test test test test test test test test test test test test test test test test test test test test test test test test test test test test test test test test test test test test test test test test test test test test test test test test test test test test test test test test test test test test test test test test test test test test test test test test test test test test test test test test test test test test test test test test test test test test test test test test test test test test test test test test test test test test test test test test test test test test test test test test test test test test test test test test test test test test test test test test test test test test test test test test test test test test test test test test test test test test test test test test test test test test test test test test test test test test test test test test test test test test test test test test test test test test test test test test test test test test test test test test test test test test test test test test test test test test test test test test test test test test test test test test test test test test test test test test test test test test test test test test test test test test test test test test test test test test test test test test test test test test test test test test test test test test test test test test test test test test test test test test test test test test test test test test test test test test test test test test test test test test test test test test test test test test test test test test test test test test test test test test test test test test test test test test test test test test test test test test test test test test test test test test test test \n",
      "0:00:00.058052\n"
     ]
    }
   ],
   "source": [
    "import datetime\n",
    "\n",
    "starttime = datetime.datetime.now() #開始計算時間\n",
    "##############\n",
    " \n",
    "for i in range(1000):\n",
    "    for j in range(1000):\n",
    "        continue\n",
    "    print('test ' ,end='')\n",
    "##############\n",
    "print('')\n",
    "endtime = datetime.datetime.now() #結束時間\n",
    "print(endtime - starttime) #程式執行時間"
   ]
  },
  {
   "cell_type": "markdown",
   "id": "40176754",
   "metadata": {},
   "source": [
    "# Math"
   ]
  },
  {
   "cell_type": "code",
   "execution_count": 7,
   "id": "6c35921f",
   "metadata": {},
   "outputs": [
    {
     "name": "stdout",
     "output_type": "stream",
     "text": [
      "2\n",
      "1\n",
      "8.0\n",
      "0.0\n",
      "1.0\n",
      "2.718281828459045\n",
      "3.141592653589793\n",
      "0.0\n",
      "7.38905609893065\n"
     ]
    }
   ],
   "source": [
    "import math\n",
    "\n",
    "x1 = math.ceil(1.4)\n",
    "x2 = math.floor(1.4)\n",
    "x3 = math.sqrt(64)\n",
    "x4 = math.sin(0)\n",
    "x5 = math.cos(0)\n",
    "x6 = math.e\n",
    "x7 = math.pi\n",
    "x8 = math.log(1)\n",
    "x9 = math.exp(2)\n",
    "\n",
    "\n",
    "print(x1)\n",
    "print(x2)\n",
    "print(x3)\n",
    "print(x4)\n",
    "print(x5)\n",
    "print(x6)\n",
    "print(x7)\n",
    "print(x8)\n",
    "print(x9)"
   ]
  },
  {
   "cell_type": "markdown",
   "id": "9c6c81d2",
   "metadata": {},
   "source": [
    "# Random"
   ]
  },
  {
   "cell_type": "code",
   "execution_count": 14,
   "id": "65bb3d2a",
   "metadata": {},
   "outputs": [
    {
     "name": "stdout",
     "output_type": "stream",
     "text": [
      "0.5714025946899135\n"
     ]
    }
   ],
   "source": [
    "import random\n",
    "random.seed(10)\n",
    "\n",
    "print(random.random())"
   ]
  },
  {
   "cell_type": "code",
   "execution_count": 15,
   "id": "4d729c8a",
   "metadata": {},
   "outputs": [
    {
     "name": "stdout",
     "output_type": "stream",
     "text": [
      "6\n"
     ]
    }
   ],
   "source": [
    "import random\n",
    "\n",
    "print(random.randrange(3, 9))"
   ]
  },
  {
   "cell_type": "code",
   "execution_count": 16,
   "id": "ee3b3f46",
   "metadata": {},
   "outputs": [
    {
     "name": "stdout",
     "output_type": "stream",
     "text": [
      "['cherry', 'apple', 'banana']\n"
     ]
    }
   ],
   "source": [
    "import random\n",
    "\n",
    "mylist = [\"apple\", \"banana\", \"cherry\"]\n",
    "random.shuffle(mylist) # 嶞機洗亂\n",
    "\n",
    "print(mylist)"
   ]
  },
  {
   "cell_type": "code",
   "execution_count": 18,
   "id": "90a2e2c1",
   "metadata": {},
   "outputs": [
    {
     "name": "stdout",
     "output_type": "stream",
     "text": [
      "['banana', 'cherry']\n"
     ]
    }
   ],
   "source": [
    "import random\n",
    "\n",
    "mylist = [\"apple\", \"banana\", \"cherry\"]\n",
    "\n",
    "print(random.sample(mylist, k=2))  # only pick 2 random from list"
   ]
  },
  {
   "cell_type": "code",
   "execution_count": 21,
   "id": "be1c8e8c",
   "metadata": {},
   "outputs": [
    {
     "name": "stdout",
     "output_type": "stream",
     "text": [
      "['apple', 'apple', 'apple', 'apple', 'apple', 'banana', 'apple', 'apple', 'apple', 'apple', 'apple', 'apple', 'apple', 'apple']\n"
     ]
    }
   ],
   "source": [
    "import random\n",
    "\n",
    "mylist = [\"apple\", \"banana\", \"cherry\"]\n",
    "\n",
    "# indicates random pick 14 items whick contains 10 apples, 1 banana, 1 cherry.\n",
    "print(random.choices(mylist, weights = [10, 1, 1], k = 14))"
   ]
  },
  {
   "cell_type": "markdown",
   "id": "753f8816",
   "metadata": {},
   "source": [
    "# OS"
   ]
  },
  {
   "cell_type": "code",
   "execution_count": 33,
   "id": "79b87d70",
   "metadata": {},
   "outputs": [
    {
     "name": "stdout",
     "output_type": "stream",
     "text": [
      "/opt/anaconda3/bin:/opt/anaconda3/condabin:/Library/Frameworks/Python.framework/Versions/3.12/bin:/usr/local/bin:/System/Cryptexes/App/usr/bin:/usr/bin:/bin:/usr/sbin:/sbin:/Library/Apple/usr/bin:/var/run/com.apple.security.cryptexd/codex.system/bootstrap/usr/local/bin:/var/run/com.apple.security.cryptexd/codex.system/bootstrap/usr/bin:/var/run/com.apple.security.cryptexd/codex.system/bootstrap/usr/appleinternal/bin:/Users/goden/apache-maven-3.9.6/bin\n",
      "==============\n",
      "/Users/goden\n",
      "==============\n",
      "/dev/tty\n"
     ]
    }
   ],
   "source": [
    "import os\n",
    "\n",
    "print(os.environ.get('PATH'))          #取得環境變數內容\n",
    "print('==============')\n",
    "print(os.path.expanduser('~'))         #取得家目錄路徑\n",
    "print('==============')\n",
    "print(os.ctermid())"
   ]
  },
  {
   "cell_type": "code",
   "execution_count": 28,
   "id": "dcab7065",
   "metadata": {},
   "outputs": [],
   "source": [
    "os.rename(\"123.txt\", \"456.txt\") # rename file"
   ]
  },
  {
   "cell_type": "code",
   "execution_count": 29,
   "id": "1cf9b425",
   "metadata": {},
   "outputs": [],
   "source": [
    "os.remove(\"456.txt\")"
   ]
  },
  {
   "cell_type": "code",
   "execution_count": 30,
   "id": "5a37d344",
   "metadata": {},
   "outputs": [
    {
     "name": "stdout",
     "output_type": "stream",
     "text": [
      "my_folder已經建立！\n"
     ]
    }
   ],
   "source": [
    "# os.mkdir(\"my_folder\")\n",
    "\n",
    "dir='my_folder'\n",
    "if not os.path.exists(dir):\n",
    "    os.mkdir(dir)\n",
    "else:\n",
    "    print(dir + '已經建立！')"
   ]
  },
  {
   "cell_type": "code",
   "execution_count": 31,
   "id": "a3777dbd",
   "metadata": {},
   "outputs": [
    {
     "name": "stdout",
     "output_type": "stream",
     "text": [
      "/Users/goden/labs/python-learning/13. 內建模組\n"
     ]
    }
   ],
   "source": [
    "print(os.getcwd())                     # 取得當前工作目錄"
   ]
  },
  {
   "cell_type": "code",
   "execution_count": 34,
   "id": "22026023",
   "metadata": {},
   "outputs": [
    {
     "name": "stdout",
     "output_type": "stream",
     "text": [
      ".localized\n",
      "Shared\n",
      "Guest\n",
      "goden\n"
     ]
    }
   ],
   "source": [
    "folders = os.listdir('/Users')   # 取得指定目錄下的所有目錄\n",
    "\n",
    "for folder in folders:\n",
    "    print(folder)"
   ]
  },
  {
   "cell_type": "markdown",
   "id": "85fcd443",
   "metadata": {},
   "source": [
    "# Shutil"
   ]
  },
  {
   "cell_type": "code",
   "execution_count": 52,
   "id": "c0b4000a",
   "metadata": {},
   "outputs": [
    {
     "name": "stdout",
     "output_type": "stream",
     "text": [
      "initial a deep copy from ./my_folder to ./my_new_folder\n",
      "traverse the each folder.\n",
      "level1.txt\n",
      "level2\n",
      "level1-new.txt\n",
      ".ipynb_checkpoints\n"
     ]
    }
   ],
   "source": [
    "import shutil\n",
    "import os\n",
    "\n",
    "src = './my_folder'\n",
    "clone = './my_new_folder'\n",
    "\n",
    "# os.mkdir(clone)\n",
    "\n",
    "if not os.path.exists(clone):\n",
    "    print('initial a deep copy from {} to {}'.format(src, clone))\n",
    "    shutil.copytree(src, clone)\n",
    "    \n",
    "    print('traverse the each folder.')\n",
    "    folders = os.listdir(clone)\n",
    "    for folder in folders:\n",
    "        print(folder)\n",
    "else:\n",
    "    print('{} does exist and initiate a deep removal'.format(clone))\n",
    "    shutil.rmtree(clone)"
   ]
  },
  {
   "cell_type": "code",
   "execution_count": 50,
   "id": "9c3665b7",
   "metadata": {},
   "outputs": [
    {
     "name": "stdout",
     "output_type": "stream",
     "text": [
      "level1.txt has been copied.\n"
     ]
    }
   ],
   "source": [
    "filename = 'level1.txt'\n",
    "\n",
    "# duplcate a file if file does not exist.\n",
    "# remove the file if file does exist.\n",
    "if not os.path.exists(filename):\n",
    "    shutil.copyfile('./my_folder/' + filename, filename)\n",
    "    print('{} has been copied.'.format(filename))\n",
    "else:\n",
    "    os.remove(filename)\n",
    "    print('{} has been removed.'.format(filename))"
   ]
  },
  {
   "cell_type": "code",
   "execution_count": 3,
   "id": "9be50cf0",
   "metadata": {},
   "outputs": [
    {
     "name": "stdout",
     "output_type": "stream",
     "text": [
      "check file \"level1.txt\" exists?\n",
      "file \"level1.txt\" does exists~ move the file to \"./trash\".\n",
      "level1.txt\n"
     ]
    }
   ],
   "source": [
    "import os\n",
    "import shutil\n",
    "\n",
    "trash = './trash'\n",
    "if not os.path.exists(trash):\n",
    "    os.mkdir(trash)\n",
    "    \n",
    "target = 'level1.txt'\n",
    "print('check file \"{}\" exists?'.format(target))\n",
    "if os.path.exists(target):\n",
    "    print('file \"{}\" does exists~ move the file to \"{}\".'.format(target, trash))\n",
    "    shutil.move(target, trash)\n",
    "    for f in os.listdir(trash):\n",
    "        print(f)\n",
    "    shutil.rmtree(trash)\n",
    "else:\n",
    "    print('file \"{}\" does not exist and initiate a copy.'.format(target))\n",
    "    shutil.copyfile('./my_folder/level1.txt', target)"
   ]
  },
  {
   "cell_type": "markdown",
   "id": "c9e80ab6",
   "metadata": {},
   "source": [
    "# JSON"
   ]
  },
  {
   "cell_type": "code",
   "execution_count": 4,
   "id": "d58be334",
   "metadata": {},
   "outputs": [
    {
     "name": "stdout",
     "output_type": "stream",
     "text": [
      "<class 'dict'>\n",
      "{'name': 'jim', 'age': 25, 'city': 'Taiwan'}\n",
      "25\n"
     ]
    }
   ],
   "source": [
    "import json\n",
    "\n",
    "# json 的資料形式字串\n",
    "x =  '{ \"name\":\"jim\", \"age\":25, \"city\":\"Taiwan\"}'\n",
    "\n",
    "# 轉換json\n",
    "person = json.loads(x)\n",
    "\n",
    "print(type(person)) #<class 'dict'>\n",
    "print(person)\n",
    "print(person['age']) #25"
   ]
  },
  {
   "cell_type": "code",
   "execution_count": 5,
   "id": "9d3016c9",
   "metadata": {},
   "outputs": [
    {
     "name": "stdout",
     "output_type": "stream",
     "text": [
      "<class 'str'>\n",
      "{\"name\": \"jim\", \"age\": 25, \"city\": \"Taiwan\"}\n"
     ]
    }
   ],
   "source": [
    "import json\n",
    "\n",
    "person = {'name': 'jim', 'age': 25, 'city': 'Taiwan'}\n",
    "\n",
    "data = json.dumps(person)\n",
    "\n",
    "print(type(data)) #<class 'str'>\n",
    "print(data) #{\"name\": \"jim\", \"age\": 25, \"city\": \"Taiwan\"}"
   ]
  },
  {
   "cell_type": "code",
   "execution_count": 6,
   "id": "312ad215",
   "metadata": {},
   "outputs": [
    {
     "name": "stdout",
     "output_type": "stream",
     "text": [
      "{\"name\": \"John\", \"age\": 30}\n",
      "[\"apple\", \"bananas\"]\n",
      "[\"apple\", \"bananas\"]\n",
      "\"hello\"\n",
      "42\n",
      "31.76\n",
      "true\n",
      "false\n",
      "null\n"
     ]
    }
   ],
   "source": [
    "import json\n",
    "\n",
    "print(json.dumps({\"name\": \"John\", \"age\": 30}))\n",
    "print(json.dumps([\"apple\", \"bananas\"]))\n",
    "print(json.dumps((\"apple\", \"bananas\")))\n",
    "print(json.dumps(\"hello\"))\n",
    "print(json.dumps(42))\n",
    "print(json.dumps(31.76))\n",
    "print(json.dumps(True))\n",
    "print(json.dumps(False))\n",
    "print(json.dumps(None))"
   ]
  },
  {
   "cell_type": "code",
   "execution_count": 9,
   "id": "d20cc588",
   "metadata": {},
   "outputs": [
    {
     "name": "stdout",
     "output_type": "stream",
     "text": [
      "id:1111\n",
      "name:Mall of Taiwan\n",
      "id:2222\n",
      "name:Costco Marketplace\n"
     ]
    }
   ],
   "source": [
    "import json\n",
    "\n",
    "input_file = open('myjson.json')\n",
    "json_array = json.load(input_file)\n",
    "\n",
    "\n",
    "for item in json_array:\n",
    "    print(\"id:\" + item['id'])\n",
    "    print(\"name:\" + item['name'])"
   ]
  },
  {
   "cell_type": "markdown",
   "id": "019a3e86",
   "metadata": {},
   "source": [
    "# Time"
   ]
  },
  {
   "cell_type": "code",
   "execution_count": 10,
   "id": "55fe1613",
   "metadata": {},
   "outputs": [
    {
     "name": "stdout",
     "output_type": "stream",
     "text": [
      "1724872063.2785752\n"
     ]
    }
   ],
   "source": [
    "# 引入 time 模組\n",
    "import time\n",
    "\n",
    "# 從 1970/1/1 00:00:00 至今的秒數\n",
    "seconds = time.time()\n",
    "\n",
    "# 輸出結果\n",
    "print(seconds)"
   ]
  },
  {
   "cell_type": "code",
   "execution_count": 11,
   "id": "56b49e21",
   "metadata": {},
   "outputs": [
    {
     "name": "stdout",
     "output_type": "stream",
     "text": [
      "本地時間： Thu Aug 29 03:08:02 2024\n"
     ]
    }
   ],
   "source": [
    "# 引入 time 模組\n",
    "import time\n",
    "\n",
    "# 從 1970/1/1 00:00:00 至今的秒數\n",
    "seconds = time.time()\n",
    "\n",
    "# 將秒數轉為本地時間\n",
    "local_time = time.ctime(seconds)\n",
    "\n",
    "# 輸出結果\n",
    "print(\"本地時間：\", local_time)"
   ]
  },
  {
   "cell_type": "code",
   "execution_count": 12,
   "id": "d53cade5",
   "metadata": {},
   "outputs": [
    {
     "name": "stdout",
     "output_type": "stream",
     "text": [
      "現在時間： Thu Aug 29 03:08:38 2024\n"
     ]
    }
   ],
   "source": [
    "# 引入 time 模組\n",
    "import time\n",
    "\n",
    "# 現在時間\n",
    "now = time.ctime()\n",
    "\n",
    "# 輸出結果\n",
    "print(\"現在時間：\", now)"
   ]
  },
  {
   "cell_type": "code",
   "execution_count": 14,
   "id": "e2e2ef10",
   "metadata": {},
   "outputs": [
    {
     "name": "stdout",
     "output_type": "stream",
     "text": [
      "Bull\n",
      "Shit\n"
     ]
    }
   ],
   "source": [
    "# 引入 time 模組\n",
    "import time\n",
    "\n",
    "print(\"Bull\")\n",
    "\n",
    "# 暫停 1.5 秒\n",
    "time.sleep(1.5)\n",
    "\n",
    "print(\"Shit\")"
   ]
  },
  {
   "cell_type": "code",
   "execution_count": 16,
   "id": "2fef6f6b",
   "metadata": {},
   "outputs": [
    {
     "name": "stdout",
     "output_type": "stream",
     "text": [
      "2024/08/29, 03:10:02\n"
     ]
    }
   ],
   "source": [
    "import time\n",
    "\n",
    "# 取得 struct_time 格式的時間\n",
    "t = time.localtime()\n",
    "\n",
    "# 依指定格式輸出\n",
    "result = time.strftime(\"%Y/%m/%d, %H:%M:%S\", t)\n",
    "print(result)"
   ]
  },
  {
   "cell_type": "markdown",
   "id": "ea8ea5cb",
   "metadata": {},
   "source": [
    "# ZipFile"
   ]
  },
  {
   "cell_type": "code",
   "execution_count": 17,
   "id": "ccff303e",
   "metadata": {},
   "outputs": [
    {
     "name": "stdout",
     "output_type": "stream",
     "text": [
      "File Name                                             Modified             Size\n",
      "files/                                         2020-11-13 09:45:58            0\n",
      "files/new.txt                                  2020-11-13 09:45:30            0\n",
      "files/test1.txt                                2020-10-26 09:44:50            0\n",
      "files/test2.txt                                2020-10-26 09:44:50            0\n",
      "files/test3.txt                                2020-10-26 09:44:50            0\n",
      "extracting ...\n"
     ]
    }
   ],
   "source": [
    "from zipfile import ZipFile\n",
    "\n",
    "file_name = 'files2.zip'\n",
    "\n",
    "with ZipFile(file_name, 'r') as zip:\n",
    "    zip.printdir()\n",
    "    \n",
    "    print('extracting ...')\n",
    "    zip.extractall()"
   ]
  },
  {
   "cell_type": "markdown",
   "id": "5babc479",
   "metadata": {},
   "source": [
    "# Sys"
   ]
  },
  {
   "cell_type": "code",
   "execution_count": 20,
   "id": "d2afe1b8",
   "metadata": {},
   "outputs": [
    {
     "name": "stdout",
     "output_type": "stream",
     "text": [
      "/opt/anaconda3/envs/Python_Course/lib/python3.7/site-packages/ipykernel_launcher.py\n",
      "-f\n"
     ]
    }
   ],
   "source": [
    "import sys\n",
    "\n",
    "print(sys.argv[0])\n",
    "print(sys.argv[1])"
   ]
  }
 ],
 "metadata": {
  "kernelspec": {
   "display_name": "Python 3 (ipykernel)",
   "language": "python",
   "name": "python3"
  },
  "language_info": {
   "codemirror_mode": {
    "name": "ipython",
    "version": 3
   },
   "file_extension": ".py",
   "mimetype": "text/x-python",
   "name": "python",
   "nbconvert_exporter": "python",
   "pygments_lexer": "ipython3",
   "version": "3.7.16"
  }
 },
 "nbformat": 4,
 "nbformat_minor": 5
}
