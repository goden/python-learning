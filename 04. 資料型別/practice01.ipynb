{
 "cells": [
  {
   "cell_type": "markdown",
   "id": "154a1296",
   "metadata": {},
   "source": [
    "# Practice 01\n",
    "Input a 6-digit number that the sum of the first 3-digit numbers is equaled to the sum of the last 3-digit numbers.\n",
    "If the conditiono is hold, print the word \"lucky number\", otherwise print \"regular number\"."
   ]
  },
  {
   "cell_type": "code",
   "execution_count": 6,
   "id": "05c76a04",
   "metadata": {},
   "outputs": [
    {
     "name": "stdout",
     "output_type": "stream",
     "text": [
      "Please input a 6-digit number.123321\n",
      "Lucky number!\n",
      "1\n"
     ]
    }
   ],
   "source": [
    "num = int(input(\"Please input a 6-digit number.\"))\n",
    "if (int(num/100000) + int(num%100000/10000) + int(num%10000/1000) == int(num%1000/100) + int(num%100/10) + int(num%10)):\n",
    "    print(\"Lucky number!\")\n",
    "else:\n",
    "    print(\"regular number\")"
   ]
  }
 ],
 "metadata": {
  "kernelspec": {
   "display_name": "Python 3 (ipykernel)",
   "language": "python",
   "name": "python3"
  },
  "language_info": {
   "codemirror_mode": {
    "name": "ipython",
    "version": 3
   },
   "file_extension": ".py",
   "mimetype": "text/x-python",
   "name": "python",
   "nbconvert_exporter": "python",
   "pygments_lexer": "ipython3",
   "version": "3.7.16"
  }
 },
 "nbformat": 4,
 "nbformat_minor": 5
}
