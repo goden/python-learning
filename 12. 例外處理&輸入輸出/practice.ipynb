{
 "cells": [
  {
   "cell_type": "markdown",
   "id": "906c136f",
   "metadata": {},
   "source": [
    "# Write a Python program that takes a text file as input and returns the number of words in words.txt  \n",
    "Note: Some words can be separated by a comma with no space."
   ]
  },
  {
   "cell_type": "code",
   "execution_count": 2,
   "id": "63511c9a",
   "metadata": {},
   "outputs": [
    {
     "name": "stdout",
     "output_type": "stream",
     "text": [
      "23\n"
     ]
    }
   ],
   "source": [
    "with open('words.txt') as f:\n",
    "    data = f.read()\n",
    "    data.replace(\",\", \" \")\n",
    "    print(len(data.split(\" \")))"
   ]
  },
  {
   "cell_type": "markdown",
   "id": "0d5aa404",
   "metadata": {},
   "source": [
    "# Write a Python program to count the number of lines in a text file."
   ]
  },
  {
   "cell_type": "code",
   "execution_count": 3,
   "id": "6aa195d5",
   "metadata": {},
   "outputs": [
    {
     "name": "stdout",
     "output_type": "stream",
     "text": [
      "Number of lines in the file:  11\n"
     ]
    }
   ],
   "source": [
    "def file_lengthy(fname):\n",
    "    f = open(fname, \"r\")\n",
    "    contents = f.readlines()\n",
    "    return len(contents)\n",
    "print(\"Number of lines in the file: \",file_lengthy(\"english_new.txt\"))"
   ]
  },
  {
   "cell_type": "markdown",
   "id": "96902b0e",
   "metadata": {},
   "source": [
    "# Write a Python program to write a list content to a file."
   ]
  },
  {
   "cell_type": "code",
   "execution_count": 4,
   "id": "0e75e6ea",
   "metadata": {},
   "outputs": [],
   "source": [
    "color = ['Red', 'Green', 'White', 'Black', 'Pink', 'Yellow']\n",
    "with open('color_write.txt', \"w\") as myfile:\n",
    "        for c in color:\n",
    "                myfile.write(c+\"\\n\")"
   ]
  },
  {
   "cell_type": "markdown",
   "id": "2fa2c3ee",
   "metadata": {},
   "source": [
    "# Write a python program to find the longest words."
   ]
  },
  {
   "cell_type": "code",
   "execution_count": 5,
   "id": "eb2b319c",
   "metadata": {},
   "outputs": [
    {
     "name": "stdout",
     "output_type": "stream",
     "text": [
      "employee-productivity\n"
     ]
    }
   ],
   "source": [
    "def longest_word(filename):\n",
    "    max_long = 0\n",
    "    max_word = ''\n",
    "    with open(filename, 'r') as f:\n",
    "        contents = f.read().replace('\\n',' ')\n",
    "        words_list = contents.split(' ')\n",
    "        for i in words_list:\n",
    "            if len(i) > max_long:\n",
    "                max_long = len(i)\n",
    "                max_word = i\n",
    "                \n",
    "    return max_word\n",
    "\n",
    "print(longest_word('english_new.txt'))"
   ]
  }
 ],
 "metadata": {
  "kernelspec": {
   "display_name": "Python 3 (ipykernel)",
   "language": "python",
   "name": "python3"
  },
  "language_info": {
   "codemirror_mode": {
    "name": "ipython",
    "version": 3
   },
   "file_extension": ".py",
   "mimetype": "text/x-python",
   "name": "python",
   "nbconvert_exporter": "python",
   "pygments_lexer": "ipython3",
   "version": "3.7.16"
  }
 },
 "nbformat": 4,
 "nbformat_minor": 5
}
