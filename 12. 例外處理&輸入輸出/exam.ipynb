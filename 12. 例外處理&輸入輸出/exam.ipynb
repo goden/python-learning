{
 "cells": [
  {
   "cell_type": "markdown",
   "id": "e2cbf493",
   "metadata": {},
   "source": [
    "# try/except"
   ]
  },
  {
   "cell_type": "code",
   "execution_count": 1,
   "id": "5e2700a2",
   "metadata": {},
   "outputs": [
    {
     "name": "stdout",
     "output_type": "stream",
     "text": [
      "error\n"
     ]
    }
   ],
   "source": [
    "a = 3\n",
    "b = 0 \n",
    "\n",
    "try:\n",
    "    c = a/b\n",
    "except:\n",
    "    print('error')"
   ]
  },
  {
   "cell_type": "code",
   "execution_count": 2,
   "id": "33a04619",
   "metadata": {},
   "outputs": [
    {
     "name": "stdout",
     "output_type": "stream",
     "text": [
      "division by zero\n"
     ]
    }
   ],
   "source": [
    "a = 3\n",
    "b = 0 \n",
    "\n",
    "try:\n",
    "    c = a/b\n",
    "except (ZeroDivisionError) as e:\n",
    "    print(e)"
   ]
  },
  {
   "cell_type": "code",
   "execution_count": 3,
   "id": "24571ad8",
   "metadata": {},
   "outputs": [
    {
     "name": "stdout",
     "output_type": "stream",
     "text": [
      "always execute\n"
     ]
    }
   ],
   "source": [
    "a = 3\n",
    "b = 2\n",
    "\n",
    "try:\n",
    "    c = a/b\n",
    "except:\n",
    "    print('error')\n",
    "else:\n",
    "    print('always execute')"
   ]
  },
  {
   "cell_type": "code",
   "execution_count": 4,
   "id": "3bd3edc3",
   "metadata": {},
   "outputs": [
    {
     "ename": "Exception",
     "evalue": "password is too short",
     "output_type": "error",
     "traceback": [
      "\u001b[0;31m---------------------------------------------------------------------------\u001b[0m",
      "\u001b[0;31mException\u001b[0m                                 Traceback (most recent call last)",
      "\u001b[0;32m/var/folders/wv/3vsx_my15mq5qb97_1t__qjm0000gn/T/ipykernel_28300/2548388867.py\u001b[0m in \u001b[0;36m<module>\u001b[0;34m\u001b[0m\n\u001b[1;32m      1\u001b[0m \u001b[0mmy_passwd\u001b[0m \u001b[0;34m=\u001b[0m \u001b[0;34m'isaac'\u001b[0m\u001b[0;34m\u001b[0m\u001b[0;34m\u001b[0m\u001b[0m\n\u001b[1;32m      2\u001b[0m \u001b[0;32mif\u001b[0m \u001b[0mlen\u001b[0m\u001b[0;34m(\u001b[0m\u001b[0mmy_passwd\u001b[0m\u001b[0;34m)\u001b[0m \u001b[0;34m<\u001b[0m \u001b[0;36m10\u001b[0m\u001b[0;34m:\u001b[0m\u001b[0;34m\u001b[0m\u001b[0;34m\u001b[0m\u001b[0m\n\u001b[0;32m----> 3\u001b[0;31m     \u001b[0;32mraise\u001b[0m \u001b[0mException\u001b[0m\u001b[0;34m(\u001b[0m\u001b[0;34m'password is too short'\u001b[0m\u001b[0;34m)\u001b[0m\u001b[0;34m\u001b[0m\u001b[0;34m\u001b[0m\u001b[0m\n\u001b[0m",
      "\u001b[0;31mException\u001b[0m: password is too short"
     ]
    }
   ],
   "source": [
    "my_passwd = 'isaac'\n",
    "if len(my_passwd) < 10:\n",
    "    raise Exception('password is too short')"
   ]
  },
  {
   "cell_type": "code",
   "execution_count": 5,
   "id": "5bb3de89",
   "metadata": {},
   "outputs": [
    {
     "ename": "AssertionError",
     "evalue": "password is too short",
     "output_type": "error",
     "traceback": [
      "\u001b[0;31m---------------------------------------------------------------------------\u001b[0m",
      "\u001b[0;31mAssertionError\u001b[0m                            Traceback (most recent call last)",
      "\u001b[0;32m/var/folders/wv/3vsx_my15mq5qb97_1t__qjm0000gn/T/ipykernel_28300/2004311486.py\u001b[0m in \u001b[0;36m<module>\u001b[0;34m\u001b[0m\n\u001b[1;32m      1\u001b[0m \u001b[0mmy_passwd\u001b[0m \u001b[0;34m=\u001b[0m \u001b[0;34m'isaac'\u001b[0m\u001b[0;34m\u001b[0m\u001b[0;34m\u001b[0m\u001b[0m\n\u001b[0;32m----> 2\u001b[0;31m \u001b[0;32massert\u001b[0m \u001b[0mlen\u001b[0m\u001b[0;34m(\u001b[0m\u001b[0mmy_passwd\u001b[0m\u001b[0;34m)\u001b[0m \u001b[0;34m>\u001b[0m \u001b[0;36m10\u001b[0m\u001b[0;34m,\u001b[0m \u001b[0;34m'password is too short'\u001b[0m\u001b[0;34m\u001b[0m\u001b[0;34m\u001b[0m\u001b[0m\n\u001b[0m",
      "\u001b[0;31mAssertionError\u001b[0m: password is too short"
     ]
    }
   ],
   "source": [
    "my_passwd = 'isaac'\n",
    "assert len(my_passwd) > 10, 'password is too short'"
   ]
  },
  {
   "cell_type": "markdown",
   "id": "d809f53f",
   "metadata": {},
   "source": [
    "# Read File"
   ]
  },
  {
   "cell_type": "code",
   "execution_count": 6,
   "id": "b3f99c30",
   "metadata": {},
   "outputs": [
    {
     "name": "stdout",
     "output_type": "stream",
     "text": [
      "Name of the file: english_new.txt\n",
      "Closed or not: False\n",
      "mode: r\n"
     ]
    }
   ],
   "source": [
    "f = open(\"english_new.txt\", \"r\")\n",
    "print('Name of the file: {}'.format(f.name))\n",
    "print('Closed or not: {}'.format(f.closed))\n",
    "print('mode: {}'.format(f.mode))\n",
    "f.close()"
   ]
  },
  {
   "cell_type": "code",
   "execution_count": 7,
   "id": "73fb17c5",
   "metadata": {
    "scrolled": true
   },
   "outputs": [
    {
     "name": "stdout",
     "output_type": "stream",
     "text": [
      "A tool that Microsof\n"
     ]
    }
   ],
   "source": [
    "f = open(\"english_new.txt\", \"r\")\n",
    "print(f.read(20))\n",
    "\n",
    "f.close()"
   ]
  },
  {
   "cell_type": "code",
   "execution_count": 8,
   "id": "3c69edf7",
   "metadata": {},
   "outputs": [
    {
     "name": "stdout",
     "output_type": "stream",
     "text": [
      "A tool that Microsoft Corp. introduced Monday uses artificial intelligence to automatically generate Wikipedia-like pages of information about a company��s products, projects and customers.\n",
      "The employee-productivity tool, Project Cortex, is part of the Microsoft 365 software and will be available to all enterprise customers early next year.\n",
      "Announced at Microsoft��s annual Ignite conference in Orlando, Fla., the tool is the first major product launch for Microsoft 365 since Microsoft Teams, an enterprise collaboration tool announced in 2017. Microsoft 365 includes Office 365, a cloud-based suite of apps including Outlook, Word and PowerPoint; Windows 10; and Microsoft��s security services for businesses.\n",
      "The tool uses AI models to comb through millions of data points that a business stores in Microsoft services, including those found in emails, documents and calendars. It then automatically generates ��topic cards�� about company projects, products, customers and internal experts.\n",
      "��It��s a way to help [employees] get access to knowledge, enterprise and learning, within the context of their work,�� said Jeff Teper, corporate vice president of Microsoft Office 365.\n",
      "For example, if employees receive an email that contains a project acronym, they can click on the highlighted acronym and a topic card will show up in a new window. The card tells users about the project and relevant subject matter experts within the company who are involved and link to their biographies and contact information. It also links to other resources about the project including company videos.\n",
      "Employees can opt out of sharing information�Xfor example, if they are working on a confidential project such as an acquisition. The data has specific controls so that certain topic cards will show up only for employees who are authorized to see that information, Mr. Teper said. ��Every single thing has security permissions around it,�� he said.\n",
      "Workers can generate new topic cards and edit existing ones if they see that important information is missing. They can also browse topics through a ��knowledge center.��\n",
      "Project Cortex has the potential to be used as a powerful educational tool for employees to quickly get up to speed on company information that��s relevant to their work, said Cheryl McKinnon, principal analyst at market-research firm Forrester Research Inc.\n",
      "But its usefulness depends on the quality and quantity of company data, she said. Having accurate data, and a lot of it, will improve the quality of topic cards that are automatically generated. Employees are unlikely to spend time training the algorithms to be better at surfacing important information, she said. ��That��s a big ask,�� she said.\n",
      "The project took about a year to develop and involved hundreds of AI researchers throughout the company, Mr. Teper said.\n",
      "\n"
     ]
    }
   ],
   "source": [
    "f = open(\"english_new.txt\", \"r\")\n",
    "print(f.read())\n",
    "\n",
    "f.close()"
   ]
  },
  {
   "cell_type": "code",
   "execution_count": 9,
   "id": "f6327785",
   "metadata": {},
   "outputs": [
    {
     "name": "stdout",
     "output_type": "stream",
     "text": [
      "A tool that Microsoft Corp. introduced Monday uses artificial intelligence to automatically generate Wikipedia-like pages of information about a company��s products, projects and customers.\n",
      "\n",
      "The employee-productivity tool, Project Cortex, is part of the Microsoft 365 software and will be available to all enterprise customers early next year.\n",
      "\n"
     ]
    }
   ],
   "source": [
    "f = open(\"english_new.txt\", \"r\")\n",
    "contents = f.readlines()\n",
    "print(contents[0])\n",
    "print(contents[1])\n",
    "\n",
    "f.close()"
   ]
  },
  {
   "cell_type": "code",
   "execution_count": 10,
   "id": "04257f6e",
   "metadata": {},
   "outputs": [
    {
     "name": "stdout",
     "output_type": "stream",
     "text": [
      "A tool that Microsoft Corp. introduced Monday uses artificial intelligence to automatically generate Wikipedia-like pages of information about a company��s products, projects and customers.\n",
      "The employee-productivity tool, Project Cortex, is part of the Microsoft 365 software and will be available to all enterprise customers early next year.\n",
      "Announced at Microsoft��s annual Ignite conference in Orlando, Fla., the tool is the first major product launch for Microsoft 365 since Microsoft Teams, an enterprise collaboration tool announced in 2017. Microsoft 365 includes Office 365, a cloud-based suite of apps including Outlook, Word and PowerPoint; Windows 10; and Microsoft��s security services for businesses.\n",
      "The tool uses AI models to comb through millions of data points that a business stores in Microsoft services, including those found in emails, documents and calendars. It then automatically generates ��topic cards�� about company projects, products, customers and internal experts.\n",
      "��It��s a way to help [employees] get access to knowledge, enterprise and learning, within the context of their work,�� said Jeff Teper, corporate vice president of Microsoft Office 365.\n",
      "For example, if employees receive an email that contains a project acronym, they can click on the highlighted acronym and a topic card will show up in a new window. The card tells users about the project and relevant subject matter experts within the company who are involved and link to their biographies and contact information. It also links to other resources about the project including company videos.\n",
      "Employees can opt out of sharing information�Xfor example, if they are working on a confidential project such as an acquisition. The data has specific controls so that certain topic cards will show up only for employees who are authorized to see that information, Mr. Teper said. ��Every single thing has security permissions around it,�� he said.\n",
      "Workers can generate new topic cards and edit existing ones if they see that important information is missing. They can also browse topics through a ��knowledge center.��\n",
      "Project Cortex has the potential to be used as a powerful educational tool for employees to quickly get up to speed on company information that��s relevant to their work, said Cheryl McKinnon, principal analyst at market-research firm Forrester Research Inc.\n",
      "But its usefulness depends on the quality and quantity of company data, she said. Having accurate data, and a lot of it, will improve the quality of topic cards that are automatically generated. Employees are unlikely to spend time training the algorithms to be better at surfacing important information, she said. ��That��s a big ask,�� she said.\n",
      "The project took about a year to develop and involved hundreds of AI researchers throughout the company, Mr. Teper said.\n",
      "\n"
     ]
    }
   ],
   "source": [
    "with open('english_new.txt', 'r') as f:\n",
    "    print(f.read())"
   ]
  },
  {
   "cell_type": "code",
   "execution_count": 11,
   "id": "9ae73a54",
   "metadata": {},
   "outputs": [
    {
     "name": "stdout",
     "output_type": "stream",
     "text": [
      "A tool that Microsoft Corp. introduced Monday uses artificial intelligence to automatically generate Wikipedia-like pages of information about a company��s products, projects and customers.\n",
      "The employee-productivity tool, Project Cortex, is part of the Microsoft 365 software and will be available to all enterprise customers early next year.\n",
      "Announced at Microsoft��s annual Ignite conference in Orlando, Fla., the tool is the first major product launch for Microsoft 365 since Microsoft Teams, an enterprise collaboration tool announced in 2017. Microsoft 365 includes Office 365, a cloud-based suite of apps including Outlook, Word and PowerPoint; Windows 10; and Microsoft��s security services for businesses.\n",
      "The tool uses AI models to comb through millions of data points that a business stores in Microsoft services, including those found in emails, documents and calendars. It then automatically generates ��topic cards�� about company projects, products, customers and internal experts.\n",
      "��It��s a way to help [employees] get access to knowledge, enterprise and learning, within the context of their work,�� said Jeff Teper, corporate vice president of Microsoft Office 365.\n",
      "For example, if employees receive an email that contains a project acronym, they can click on the highlighted acronym and a topic card will show up in a new window. The card tells users about the project and relevant subject matter experts within the company who are involved and link to their biographies and contact information. It also links to other resources about the project including company videos.\n",
      "Employees can opt out of sharing information�Xfor example, if they are working on a confidential project such as an acquisition. The data has specific controls so that certain topic cards will show up only for employees who are authorized to see that information, Mr. Teper said. ��Every single thing has security permissions around it,�� he said.\n",
      "Workers can generate new topic cards and edit existing ones if they see that important information is missing. They can also browse topics through a ��knowledge center.��\n",
      "Project Cortex has the potential to be used as a powerful educational tool for employees to quickly get up to speed on company information that��s relevant to their work, said Cheryl McKinnon, principal analyst at market-research firm Forrester Research Inc.\n",
      "But its usefulness depends on the quality and quantity of company data, she said. Having accurate data, and a lot of it, will improve the quality of topic cards that are automatically generated. Employees are unlikely to spend time training the algorithms to be better at surfacing important information, she said. ��That��s a big ask,�� she said.\n",
      "The project took about a year to develop and involved hundreds of AI researchers throughout the company, Mr. Teper said.\n"
     ]
    }
   ],
   "source": [
    "with open('english_new.txt', 'r') as f:\n",
    "    for line in f.readlines():\n",
    "        print(line.strip()) # 把末尾的'\\n'刪掉"
   ]
  },
  {
   "cell_type": "markdown",
   "id": "7b9ee67c",
   "metadata": {},
   "source": [
    "# Write File"
   ]
  },
  {
   "cell_type": "code",
   "execution_count": 12,
   "id": "74a9ceae",
   "metadata": {},
   "outputs": [],
   "source": [
    "f = open('write_text.txt', 'w')\n",
    "f.write('Hello, python!')\n",
    "f.close()"
   ]
  },
  {
   "cell_type": "code",
   "execution_count": 13,
   "id": "78dd6127",
   "metadata": {},
   "outputs": [],
   "source": [
    "with open('write_text2.txt', 'w') as f:\n",
    "    f.write('Hello, python!')"
   ]
  },
  {
   "cell_type": "code",
   "execution_count": 14,
   "id": "f3c0760a",
   "metadata": {},
   "outputs": [],
   "source": [
    "with open('csv_demo.csv', 'a') as f:\n",
    "    f.write('name,grade\\n')\n",
    "    f.write('isaac,60\\n')\n",
    "    f.write('andy,50\\n')"
   ]
  }
 ],
 "metadata": {
  "kernelspec": {
   "display_name": "Python 3 (ipykernel)",
   "language": "python",
   "name": "python3"
  },
  "language_info": {
   "codemirror_mode": {
    "name": "ipython",
    "version": 3
   },
   "file_extension": ".py",
   "mimetype": "text/x-python",
   "name": "python",
   "nbconvert_exporter": "python",
   "pygments_lexer": "ipython3",
   "version": "3.7.16"
  }
 },
 "nbformat": 4,
 "nbformat_minor": 5
}
