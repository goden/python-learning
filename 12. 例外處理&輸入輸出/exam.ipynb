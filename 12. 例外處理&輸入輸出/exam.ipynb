{
 "cells": [
  {
   "cell_type": "markdown",
   "id": "7845b90c",
   "metadata": {},
   "source": [
    "# try/except"
   ]
  },
  {
   "cell_type": "code",
   "execution_count": 1,
   "id": "5b5af266",
   "metadata": {},
   "outputs": [
    {
     "name": "stdout",
     "output_type": "stream",
     "text": [
      "error\n"
     ]
    }
   ],
   "source": [
    "a = 3\n",
    "b = 0 \n",
    "\n",
    "try:\n",
    "    c = a/b\n",
    "except:\n",
    "    print('error')"
   ]
  },
  {
   "cell_type": "code",
   "execution_count": 2,
   "id": "a5f46a5d",
   "metadata": {},
   "outputs": [
    {
     "name": "stdout",
     "output_type": "stream",
     "text": [
      "division by zero\n"
     ]
    }
   ],
   "source": [
    "a = 3\n",
    "b = 0 \n",
    "\n",
    "try:\n",
    "    c = a/b\n",
    "except (ZeroDivisionError) as e:\n",
    "    print(e)"
   ]
  }
 ],
 "metadata": {
  "kernelspec": {
   "display_name": "Python 3 (ipykernel)",
   "language": "python",
   "name": "python3"
  },
  "language_info": {
   "codemirror_mode": {
    "name": "ipython",
    "version": 3
   },
   "file_extension": ".py",
   "mimetype": "text/x-python",
   "name": "python",
   "nbconvert_exporter": "python",
   "pygments_lexer": "ipython3",
   "version": "3.7.16"
  }
 },
 "nbformat": 4,
 "nbformat_minor": 5
}
