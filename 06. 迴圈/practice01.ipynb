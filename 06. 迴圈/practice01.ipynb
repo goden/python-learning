{
 "cells": [
  {
   "cell_type": "markdown",
   "id": "4851d01c",
   "metadata": {},
   "source": [
    "# Input a number to draw a triangle using symbol(*)"
   ]
  },
  {
   "cell_type": "code",
   "execution_count": 1,
   "id": "ad4b2c15",
   "metadata": {},
   "outputs": [
    {
     "name": "stdout",
     "output_type": "stream",
     "text": [
      "7\n",
      "      *\n",
      "     ***\n",
      "    *****\n",
      "   *******\n",
      "  *********\n",
      " ***********\n",
      "*************\n"
     ]
    }
   ],
   "source": [
    "level = int(input())\n",
    "\n",
    "for i in range(level):\n",
    "    print( ' ' * (level-i-1) + '*' * (2*i+1))"
   ]
  },
  {
   "cell_type": "markdown",
   "id": "18e7a69d",
   "metadata": {},
   "source": [
    "# Input a number to calculate the factorials"
   ]
  },
  {
   "cell_type": "code",
   "execution_count": 2,
   "id": "67cfbbce",
   "metadata": {},
   "outputs": [
    {
     "name": "stdout",
     "output_type": "stream",
     "text": [
      "5\n",
      "result is 120\n"
     ]
    }
   ],
   "source": [
    "# 5! = 5*4*3*2*1\n",
    "# 4! = 4*3*2*1\n",
    "\n",
    "\n",
    "number = int(input())\n",
    "\n",
    "result = 1\n",
    "for i in range(1, number+1):\n",
    "    result = result * i\n",
    "print('result is {}'.format(result))"
   ]
  }
 ],
 "metadata": {
  "kernelspec": {
   "display_name": "Python 3 (ipykernel)",
   "language": "python",
   "name": "python3"
  },
  "language_info": {
   "codemirror_mode": {
    "name": "ipython",
    "version": 3
   },
   "file_extension": ".py",
   "mimetype": "text/x-python",
   "name": "python",
   "nbconvert_exporter": "python",
   "pygments_lexer": "ipython3",
   "version": "3.7.16"
  }
 },
 "nbformat": 4,
 "nbformat_minor": 5
}
