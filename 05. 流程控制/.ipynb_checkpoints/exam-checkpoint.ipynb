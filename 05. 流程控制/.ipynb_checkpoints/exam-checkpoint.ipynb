{
 "cells": [
  {
   "cell_type": "markdown",
   "id": "20a2089b",
   "metadata": {},
   "source": [
    "# if/else if/else syntax"
   ]
  },
  {
   "cell_type": "code",
   "execution_count": 1,
   "id": "563a0dbc",
   "metadata": {},
   "outputs": [
    {
     "name": "stdout",
     "output_type": "stream",
     "text": [
      "You are fucking fool!!!\n"
     ]
    }
   ],
   "source": [
    "grade = 60\n",
    "\n",
    "if grade > 90:\n",
    "    print('Excellent')\n",
    "else:\n",
    "    print('You are fucking fool!!!')"
   ]
  },
  {
   "cell_type": "code",
   "execution_count": 4,
   "id": "ca1de1ba",
   "metadata": {},
   "outputs": [],
   "source": [
    "grade = 30\n",
    "\n",
    "if grade > 90:\n",
    "    print('excellent')\n",
    "if grade > 60:\n",
    "    print('good')"
   ]
  },
  {
   "cell_type": "code",
   "execution_count": 5,
   "id": "3014bd5c",
   "metadata": {},
   "outputs": [
    {
     "name": "stdout",
     "output_type": "stream",
     "text": [
      "excellent\n",
      "good\n",
      "always execute!\n"
     ]
    }
   ],
   "source": [
    "grade = 95\n",
    "\n",
    "if grade > 90:\n",
    "    print('excellent')\n",
    "if grade > 60:\n",
    "    print('good')\n",
    "print('always execute!')"
   ]
  },
  {
   "cell_type": "code",
   "execution_count": 6,
   "id": "f503e475",
   "metadata": {},
   "outputs": [
    {
     "name": "stdout",
     "output_type": "stream",
     "text": [
      "excellent\n"
     ]
    }
   ],
   "source": [
    "grade = 95\n",
    "\n",
    "if grade > 90:\n",
    "    print('excellent')\n",
    "elif grade > 60:\n",
    "    print('good')\n",
    "elif grade > 30:\n",
    "    print('so so')\n",
    "else:\n",
    "    print('you have to practice more!!!')"
   ]
  },
  {
   "cell_type": "code",
   "execution_count": 7,
   "id": "1920f22c",
   "metadata": {},
   "outputs": [
    {
     "name": "stdout",
     "output_type": "stream",
     "text": [
      "At least one of the conditions is True\n"
     ]
    }
   ],
   "source": [
    "a = 200\n",
    "b = 33\n",
    "c = 500\n",
    "if a > b or a > c:\n",
    "    print(\"At least one of the conditions is True\")"
   ]
  },
  {
   "cell_type": "code",
   "execution_count": 8,
   "id": "3a9560f2",
   "metadata": {},
   "outputs": [
    {
     "name": "stdout",
     "output_type": "stream",
     "text": [
      "Always True\n"
     ]
    }
   ],
   "source": [
    "a = 200\n",
    "b = 33\n",
    "c = 500\n",
    "if (a > b or a > c) and True:\n",
    "    print(\"Always True\")"
   ]
  },
  {
   "cell_type": "code",
   "execution_count": 9,
   "id": "6607f1e3",
   "metadata": {},
   "outputs": [
    {
     "name": "stdout",
     "output_type": "stream",
     "text": [
      "true\n"
     ]
    }
   ],
   "source": [
    "if 2:\n",
    "    print('true')"
   ]
  },
  {
   "cell_type": "code",
   "execution_count": 10,
   "id": "7be74c44",
   "metadata": {},
   "outputs": [
    {
     "name": "stdout",
     "output_type": "stream",
     "text": [
      "false\n"
     ]
    }
   ],
   "source": [
    "if 0:\n",
    "    print('true')\n",
    "else:\n",
    "    print('false')"
   ]
  },
  {
   "cell_type": "code",
   "execution_count": 11,
   "id": "9f96307c",
   "metadata": {},
   "outputs": [
    {
     "name": "stdout",
     "output_type": "stream",
     "text": [
      "true\n"
     ]
    }
   ],
   "source": [
    "if True:\n",
    "    print('true')\n",
    "else:\n",
    "    print('false')"
   ]
  },
  {
   "cell_type": "code",
   "execution_count": 12,
   "id": "9d91f4a7",
   "metadata": {},
   "outputs": [
    {
     "name": "stdout",
     "output_type": "stream",
     "text": [
      "Above ten,\n",
      "but not above 20.\n"
     ]
    }
   ],
   "source": [
    "x = 15\n",
    "\n",
    "if x > 10:\n",
    "    print(\"Above ten,\")\n",
    "    if x > 20:\n",
    "        print(\"and also above 20!\")\n",
    "    else:\n",
    "        print(\"but not above 20.\")"
   ]
  }
 ],
 "metadata": {
  "kernelspec": {
   "display_name": "Python 3 (ipykernel)",
   "language": "python",
   "name": "python3"
  },
  "language_info": {
   "codemirror_mode": {
    "name": "ipython",
    "version": 3
   },
   "file_extension": ".py",
   "mimetype": "text/x-python",
   "name": "python",
   "nbconvert_exporter": "python",
   "pygments_lexer": "ipython3",
   "version": "3.7.16"
  }
 },
 "nbformat": 4,
 "nbformat_minor": 5
}
