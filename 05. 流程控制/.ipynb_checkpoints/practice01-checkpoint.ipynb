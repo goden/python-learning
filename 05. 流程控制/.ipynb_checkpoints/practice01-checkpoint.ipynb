{
 "cells": [
  {
   "cell_type": "markdown",
   "id": "1c9eb2fb",
   "metadata": {},
   "source": [
    "# Swap numbers a and b"
   ]
  },
  {
   "cell_type": "code",
   "execution_count": 1,
   "id": "08ee02dd",
   "metadata": {},
   "outputs": [
    {
     "name": "stdout",
     "output_type": "stream",
     "text": [
      "before swap: a:5, b:3\n",
      "before swap: a:3, b:5\n"
     ]
    }
   ],
   "source": [
    "a = 5\n",
    "b = 3\n",
    "\n",
    "\n",
    "print('before swap: a:{}, b:{}'.format(a,b))\n",
    "tmp = a\n",
    "a = b\n",
    "b = tmp\n",
    "\n",
    "print('before swap: a:{}, b:{}'.format(a,b))"
   ]
  },
  {
   "cell_type": "markdown",
   "id": "0efe2331",
   "metadata": {},
   "source": [
    "# Input a character. Print true if it is a vowel, false otherwise"
   ]
  },
  {
   "cell_type": "code",
   "execution_count": 2,
   "id": "f9b8492e",
   "metadata": {},
   "outputs": [
    {
     "name": "stdout",
     "output_type": "stream",
     "text": [
      "e\n",
      "True\n"
     ]
    }
   ],
   "source": [
    "char = input()\n",
    "vowels = ['a', 'e', 'i', 'o', 'u']\n",
    "if char not in vowels:\n",
    "    print(False)\n",
    "else:\n",
    "    print(True)"
   ]
  },
  {
   "cell_type": "code",
   "execution_count": 3,
   "id": "bce827e5",
   "metadata": {},
   "outputs": [
    {
     "name": "stdout",
     "output_type": "stream",
     "text": [
      "b\n",
      "False\n"
     ]
    }
   ],
   "source": [
    "char = input()\n",
    "vowels = ['a', 'e', 'i', 'o', 'u']\n",
    "if char not in vowels:\n",
    "    print(False)\n",
    "else:\n",
    "    print(True)"
   ]
  },
  {
   "cell_type": "markdown",
   "id": "642cc889",
   "metadata": {},
   "source": [
    "# Input a character to identify whether is uppercase or lowercase, number or special case"
   ]
  },
  {
   "cell_type": "code",
   "execution_count": 4,
   "id": "6c3b4e59",
   "metadata": {},
   "outputs": [
    {
     "name": "stdout",
     "output_type": "stream",
     "text": [
      "please enter a char: g\n",
      "Lowercase character.\n"
     ]
    }
   ],
   "source": [
    "ch = input('please enter a char: ')\n",
    "if ord(ch) >= ord('A') and ord(ch) <= ord('Z'):\n",
    "    print('Uppercase character.')\n",
    "    \n",
    "elif ord(ch) >= ord('a') and ord(ch) <= ord('z'):\n",
    "    print('Lowercase character.')\n",
    "    \n",
    "elif ord(ch) >= ord('0') and ord(ch) <= ord('9'):\n",
    "    print('Digit.')\n",
    "\n",
    "else:\n",
    "    print('Special characters.')"
   ]
  }
 ],
 "metadata": {
  "kernelspec": {
   "display_name": "Python 3 (ipykernel)",
   "language": "python",
   "name": "python3"
  },
  "language_info": {
   "codemirror_mode": {
    "name": "ipython",
    "version": 3
   },
   "file_extension": ".py",
   "mimetype": "text/x-python",
   "name": "python",
   "nbconvert_exporter": "python",
   "pygments_lexer": "ipython3",
   "version": "3.7.16"
  }
 },
 "nbformat": 4,
 "nbformat_minor": 5
}
