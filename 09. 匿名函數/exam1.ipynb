{
 "cells": [
  {
   "cell_type": "markdown",
   "id": "fa9055ef",
   "metadata": {},
   "source": [
    "# Lambda function\n",
    "An user-defined function can be defined in a row."
   ]
  },
  {
   "cell_type": "code",
   "execution_count": 1,
   "id": "c613fce6",
   "metadata": {},
   "outputs": [
    {
     "name": "stdout",
     "output_type": "stream",
     "text": [
      "169\n"
     ]
    }
   ],
   "source": [
    "# define a common function to calculate the double result.\n",
    "def double(a):\n",
    "    return a * a\n",
    "print(double(13))"
   ]
  },
  {
   "cell_type": "code",
   "execution_count": 2,
   "id": "342a9aad",
   "metadata": {},
   "outputs": [
    {
     "name": "stdout",
     "output_type": "stream",
     "text": [
      "25\n"
     ]
    }
   ],
   "source": [
    "# the aforementioned example can be illustrated as below.\n",
    "x = lambda a : a * a\n",
    "print(x(5))"
   ]
  },
  {
   "cell_type": "code",
   "execution_count": 3,
   "id": "c199ce5d",
   "metadata": {},
   "outputs": [
    {
     "name": "stdout",
     "output_type": "stream",
     "text": [
      "65\n"
     ]
    }
   ],
   "source": [
    "# allow more paramters to archieve the complicated result.\n",
    "product = lambda x, y: x * y\n",
    "print(product(5,13))"
   ]
  },
  {
   "cell_type": "markdown",
   "id": "bf941fc0",
   "metadata": {},
   "source": [
    "# Filter"
   ]
  },
  {
   "cell_type": "code",
   "execution_count": 5,
   "id": "755e5a0d",
   "metadata": {},
   "outputs": [
    {
     "name": "stdout",
     "output_type": "stream",
     "text": [
      "[1, 3, 5, 7, 9]\n"
     ]
    }
   ],
   "source": [
    "my_list = [1,2,3,4,5,6,7,8,9,10]\n",
    "odd_list = list(filter(lambda x:(x %2 == 1), my_list))\n",
    "print(odd_list)"
   ]
  },
  {
   "cell_type": "markdown",
   "id": "9a330699",
   "metadata": {},
   "source": [
    "# Map"
   ]
  },
  {
   "cell_type": "code",
   "execution_count": 6,
   "id": "1f3cfd81",
   "metadata": {},
   "outputs": [
    {
     "name": "stdout",
     "output_type": "stream",
     "text": [
      "[25, 100, 225, 400, 625, 900]\n"
     ]
    }
   ],
   "source": [
    "my_list = [5, 10 ,15, 20, 25, 30]\n",
    "sqrt_list = list(map(lambda x: x**2, my_list))\n",
    "print(sqrt_list)"
   ]
  }
 ],
 "metadata": {
  "kernelspec": {
   "display_name": "Python 3 (ipykernel)",
   "language": "python",
   "name": "python3"
  },
  "language_info": {
   "codemirror_mode": {
    "name": "ipython",
    "version": 3
   },
   "file_extension": ".py",
   "mimetype": "text/x-python",
   "name": "python",
   "nbconvert_exporter": "python",
   "pygments_lexer": "ipython3",
   "version": "3.7.16"
  }
 },
 "nbformat": 4,
 "nbformat_minor": 5
}
