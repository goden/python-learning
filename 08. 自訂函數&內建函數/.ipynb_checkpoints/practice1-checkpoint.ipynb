{
 "cells": [
  {
   "cell_type": "markdown",
   "id": "7cd02a49",
   "metadata": {},
   "source": [
    "# Write a Python function to multiply all the numbers in a list.\n",
    "Sample List : (8, 2, 3, -1, 7)  \n",
    "Expected Output : -336"
   ]
  },
  {
   "cell_type": "code",
   "execution_count": 1,
   "id": "2f8bddeb",
   "metadata": {},
   "outputs": [
    {
     "name": "stdout",
     "output_type": "stream",
     "text": [
      "-336\n"
     ]
    }
   ],
   "source": [
    "def multiply(numbers):  \n",
    "    total = 1\n",
    "    for x in numbers:\n",
    "        total *= x  \n",
    "    return total  \n",
    "print(multiply([8, 2, 3, -1, 7]))"
   ]
  },
  {
   "cell_type": "markdown",
   "id": "279ad401",
   "metadata": {},
   "source": [
    "# Input a integer number. Please calculate 1!+2!+....+N!"
   ]
  },
  {
   "cell_type": "code",
   "execution_count": 2,
   "id": "c741694b",
   "metadata": {},
   "outputs": [
    {
     "name": "stdout",
     "output_type": "stream",
     "text": [
      "input a integer number: 5\n",
      "factorial_sum: 153\n"
     ]
    }
   ],
   "source": [
    "def factorial(n):\n",
    "    result = 1\n",
    "    for i in range(1, n+1):\n",
    "        result = result * i\n",
    "    return result\n",
    "\n",
    "number = int(input('input a integer number: '))\n",
    "\n",
    "factorial_sum = 0\n",
    "for i in range(1, number+1):\n",
    "    factorial_sum = factorial_sum + factorial(i)\n",
    "\n",
    "print('factorial_sum: {}'.format(factorial_sum))"
   ]
  },
  {
   "cell_type": "markdown",
   "id": "8b30ffed",
   "metadata": {},
   "source": [
    "# Write a Python function that accepts a string and calculate the number of upper case letters and lower case letters.  \n",
    "Sample String : 'The quick Brow Fox'  \n",
    "Expected Output :  \n",
    "No. of Upper case characters : 3  \n",
    "No. of Lower case Characters : 12  "
   ]
  },
  {
   "cell_type": "code",
   "execution_count": 3,
   "id": "12e164ac",
   "metadata": {},
   "outputs": [
    {
     "name": "stdout",
     "output_type": "stream",
     "text": [
      "Original String :  The quick Brown Fox\n",
      "No. of Upper case characters :  3\n",
      "No. of Lower case Characters :  13\n"
     ]
    }
   ],
   "source": [
    "def string_test(s):\n",
    "    d={\"UPPER_CASE\":0, \"LOWER_CASE\":0}\n",
    "    for c in s:\n",
    "        if c.isupper():\n",
    "            d[\"UPPER_CASE\"]+=1\n",
    "        if c.islower():\n",
    "            d[\"LOWER_CASE\"]+=1\n",
    "        \n",
    "    print (\"Original String : \", s)\n",
    "    print (\"No. of Upper case characters : \", d[\"UPPER_CASE\"])\n",
    "    print (\"No. of Lower case Characters : \", d[\"LOWER_CASE\"])\n",
    "\n",
    "string_test('The quick Brown Fox')"
   ]
  },
  {
   "cell_type": "markdown",
   "id": "8ee10527",
   "metadata": {},
   "source": [
    "# Write a Python function to create and print a list where the values are square of numbers between 1 and 30 (both included)."
   ]
  },
  {
   "cell_type": "code",
   "execution_count": 4,
   "id": "300fde39",
   "metadata": {},
   "outputs": [
    {
     "name": "stdout",
     "output_type": "stream",
     "text": [
      "1.8\n"
     ]
    }
   ],
   "source": [
    "def calAvg(target_list):\n",
    "    return sum(target_list)/len(target_list)\n",
    "\n",
    "my_list = [10, -2, 3, 8, -10]\n",
    "print(calAvg(my_list))"
   ]
  }
 ],
 "metadata": {
  "kernelspec": {
   "display_name": "Python 3 (ipykernel)",
   "language": "python",
   "name": "python3"
  },
  "language_info": {
   "codemirror_mode": {
    "name": "ipython",
    "version": 3
   },
   "file_extension": ".py",
   "mimetype": "text/x-python",
   "name": "python",
   "nbconvert_exporter": "python",
   "pygments_lexer": "ipython3",
   "version": "3.7.16"
  }
 },
 "nbformat": 4,
 "nbformat_minor": 5
}
