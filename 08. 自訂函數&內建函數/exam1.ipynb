{
 "cells": [
  {
   "cell_type": "markdown",
   "id": "5c6f642a",
   "metadata": {},
   "source": [
    "# Built-in function"
   ]
  },
  {
   "cell_type": "code",
   "execution_count": 1,
   "id": "959d12de",
   "metadata": {},
   "outputs": [
    {
     "name": "stdout",
     "output_type": "stream",
     "text": [
      "5\n",
      "True\n",
      "65\n",
      "A\n",
      "15\n"
     ]
    }
   ],
   "source": [
    "a = -5\n",
    "b = 'A'\n",
    "c =  65\n",
    "d = '(a+10)*3'\n",
    "print(abs(a))\n",
    "print(bool(a))\n",
    "print(ord(b))\n",
    "print(chr(c))\n",
    "print(eval(d))"
   ]
  },
  {
   "cell_type": "markdown",
   "id": "839dc532",
   "metadata": {},
   "source": [
    "# User-defined function"
   ]
  },
  {
   "cell_type": "code",
   "execution_count": 2,
   "id": "cde4b878",
   "metadata": {},
   "outputs": [
    {
     "name": "stdout",
     "output_type": "stream",
     "text": [
      "hello\n",
      "hello\n",
      "hello\n"
     ]
    }
   ],
   "source": [
    "def printHello():\n",
    "    print('hello')\n",
    "    \n",
    "printHello()\n",
    "printHello()\n",
    "printHello()"
   ]
  },
  {
   "cell_type": "code",
   "execution_count": 3,
   "id": "bff88316",
   "metadata": {},
   "outputs": [
    {
     "name": "stdout",
     "output_type": "stream",
     "text": [
      "hello isaac\n",
      "hello Dana\n",
      "hello Joe\n"
     ]
    }
   ],
   "source": [
    "def printHello(text):\n",
    "    print('hello '+ text)\n",
    "\n",
    "    \n",
    "printHello('isaac')\n",
    "printHello('Dana')\n",
    "printHello('Joe')"
   ]
  },
  {
   "cell_type": "code",
   "execution_count": 4,
   "id": "0b1a5cc4",
   "metadata": {},
   "outputs": [
    {
     "name": "stdout",
     "output_type": "stream",
     "text": [
      "8\n",
      "-2\n"
     ]
    }
   ],
   "source": [
    "def sum_number(a, b):\n",
    "    num_sum = a + b\n",
    "    return num_sum\n",
    "\n",
    "print(sum_number(3,5))\n",
    "print(sum_number(3,-5))"
   ]
  },
  {
   "cell_type": "code",
   "execution_count": 5,
   "id": "22fffc71",
   "metadata": {},
   "outputs": [
    {
     "name": "stdout",
     "output_type": "stream",
     "text": [
      "15\n",
      "5\n"
     ]
    }
   ],
   "source": [
    "def sum_number(a, b=10):\n",
    "    num_sum = a + b\n",
    "    return num_sum\n",
    "    \n",
    "print(sum_number(5))\n",
    "print(sum_number(-5))"
   ]
  },
  {
   "cell_type": "code",
   "execution_count": 6,
   "id": "b72c60fb",
   "metadata": {},
   "outputs": [
    {
     "name": "stdout",
     "output_type": "stream",
     "text": [
      "5\n",
      "5\n"
     ]
    }
   ],
   "source": [
    "def sum_number(a=-5, b=10):\n",
    "    num_sum = a + b\n",
    "    return num_sum\n",
    "    \n",
    "print(sum_number())\n",
    "print(sum_number())"
   ]
  },
  {
   "cell_type": "code",
   "execution_count": 7,
   "id": "02a98ffb",
   "metadata": {},
   "outputs": [
    {
     "name": "stdout",
     "output_type": "stream",
     "text": [
      "isaac's score is: 80\n",
      "isaac's score is: 80\n"
     ]
    }
   ],
   "source": [
    "def get_score(student_name, score):\n",
    "    text = student_name + '\\'s score is: ' + str(score)\n",
    "    print(text)\n",
    "    \n",
    "get_score('isaac', 80)\n",
    "get_score(score = 80, student_name = 'isaac')"
   ]
  },
  {
   "cell_type": "code",
   "execution_count": 8,
   "id": "278659c0",
   "metadata": {},
   "outputs": [
    {
     "name": "stdout",
     "output_type": "stream",
     "text": [
      "apple\n",
      "banana\n",
      "orange\n"
     ]
    }
   ],
   "source": [
    "def show_list_items(*items):\n",
    "    #print(items)\n",
    "    for i in items:\n",
    "        print(i)\n",
    "element1 = 'apple'\n",
    "element2 = 'banana'\n",
    "element3 = 'orange'\n",
    "show_list_items(element1, element2, element3)"
   ]
  },
  {
   "cell_type": "code",
   "execution_count": 9,
   "id": "ff20120a",
   "metadata": {},
   "outputs": [
    {
     "name": "stdout",
     "output_type": "stream",
     "text": [
      "{'fname': 'Tobias', 'lname': 'Refsnes'}\n",
      "His last name is Refsnes\n"
     ]
    }
   ],
   "source": [
    "def my_function(**kid):\n",
    "    print(kid)\n",
    "    print(\"His last name is \" + kid[\"lname\"])\n",
    "\n",
    "my_function(fname = \"Tobias\", lname = \"Refsnes\")"
   ]
  },
  {
   "cell_type": "code",
   "execution_count": 10,
   "id": "3e3adc95",
   "metadata": {},
   "outputs": [
    {
     "name": "stdout",
     "output_type": "stream",
     "text": [
      "(40, 10.0)\n"
     ]
    }
   ],
   "source": [
    "def list_statistic(u_list):\n",
    "    num_sum = sum(u_list)\n",
    "    num_avg = num_sum / len(u_list) \n",
    "    return num_sum, num_avg\n",
    "\n",
    "my_list = [100, 20, -30, -50] \n",
    "print(list_statistic(my_list))"
   ]
  },
  {
   "cell_type": "code",
   "execution_count": 11,
   "id": "58eebe7a",
   "metadata": {},
   "outputs": [
    {
     "name": "stdout",
     "output_type": "stream",
     "text": [
      "main function\n",
      "hello isaac\n"
     ]
    }
   ],
   "source": [
    "def main():\n",
    "    print('main function')\n",
    "    printHello('isaac')\n",
    "    \n",
    "def printHello(text):\n",
    "    print('hello '+text)\n",
    "\n",
    "if __name__ == \"__main__\":\n",
    "    main()"
   ]
  },
  {
   "cell_type": "markdown",
   "id": "872a9314",
   "metadata": {},
   "source": [
    "# Global variables & Local variables"
   ]
  },
  {
   "cell_type": "code",
   "execution_count": 12,
   "id": "292038ed",
   "metadata": {},
   "outputs": [
    {
     "name": "stdout",
     "output_type": "stream",
     "text": [
      "8\n"
     ]
    },
    {
     "ename": "NameError",
     "evalue": "name 'x' is not defined",
     "output_type": "error",
     "traceback": [
      "\u001b[0;31m---------------------------------------------------------------------------\u001b[0m",
      "\u001b[0;31mNameError\u001b[0m                                 Traceback (most recent call last)",
      "\u001b[0;32m/var/folders/wv/3vsx_my15mq5qb97_1t__qjm0000gn/T/ipykernel_97928/2535605913.py\u001b[0m in \u001b[0;36m<module>\u001b[0;34m\u001b[0m\n\u001b[1;32m      4\u001b[0m \u001b[0;34m\u001b[0m\u001b[0m\n\u001b[1;32m      5\u001b[0m \u001b[0mprint\u001b[0m\u001b[0;34m(\u001b[0m\u001b[0msum_number\u001b[0m\u001b[0;34m(\u001b[0m\u001b[0;36m3\u001b[0m\u001b[0;34m,\u001b[0m\u001b[0;36m5\u001b[0m\u001b[0;34m)\u001b[0m\u001b[0;34m)\u001b[0m\u001b[0;34m\u001b[0m\u001b[0;34m\u001b[0m\u001b[0m\n\u001b[0;32m----> 6\u001b[0;31m \u001b[0mprint\u001b[0m\u001b[0;34m(\u001b[0m\u001b[0mx\u001b[0m\u001b[0;34m)\u001b[0m\u001b[0;34m\u001b[0m\u001b[0;34m\u001b[0m\u001b[0m\n\u001b[0m",
      "\u001b[0;31mNameError\u001b[0m: name 'x' is not defined"
     ]
    }
   ],
   "source": [
    "def sum_number(x, y):\n",
    "    num_sum = x + y\n",
    "    return num_sum\n",
    "    \n",
    "print(sum_number(3,5))\n",
    "print(x)"
   ]
  },
  {
   "cell_type": "code",
   "execution_count": 13,
   "id": "57da4312",
   "metadata": {},
   "outputs": [
    {
     "name": "stdout",
     "output_type": "stream",
     "text": [
      "8\n",
      "3\n"
     ]
    }
   ],
   "source": [
    "x = 3\n",
    "def sum_number(y):\n",
    "    global x\n",
    "    num_sum = x + y\n",
    "    return num_sum\n",
    "    \n",
    "print(sum_number(5))\n",
    "print(x)"
   ]
  }
 ],
 "metadata": {
  "kernelspec": {
   "display_name": "Python 3 (ipykernel)",
   "language": "python",
   "name": "python3"
  },
  "language_info": {
   "codemirror_mode": {
    "name": "ipython",
    "version": 3
   },
   "file_extension": ".py",
   "mimetype": "text/x-python",
   "name": "python",
   "nbconvert_exporter": "python",
   "pygments_lexer": "ipython3",
   "version": "3.7.16"
  }
 },
 "nbformat": 4,
 "nbformat_minor": 5
}
