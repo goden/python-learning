{
 "cells": [
  {
   "cell_type": "markdown",
   "id": "5e359806",
   "metadata": {},
   "source": [
    "# 環境建置測試\n",
    "## 使用jupyter"
   ]
  },
  {
   "cell_type": "code",
   "execution_count": 4,
   "id": "b630e54b",
   "metadata": {},
   "outputs": [
    {
     "name": "stdout",
     "output_type": "stream",
     "text": [
      "Hello world!\n",
      "Hello python!\n"
     ]
    }
   ],
   "source": [
    "# 註解第一行\n",
    "# 註解第二行\n",
    "\n",
    "'''\n",
    "這是多行註解區塊\n",
    "一次可以寫入多行註解\n",
    "\n",
    "'''\n",
    "\n",
    "print(\"Hello world!\")\n",
    "print(\"Hello python!\")"
   ]
  },
  {
   "cell_type": "markdown",
   "id": "c0edae2b",
   "metadata": {},
   "source": [
    "# Markdown Syntax 測試\n",
    "----\n",
    "\n",
    "REFER\n",
    "\n",
    "<details>\n",
    "<summary>HEADINGS</summary>\n",
    "    \n",
    "# A first-level heading\n",
    "## A second-level heading\n",
    "### A third-level heading\n",
    "    \n",
    "</details>"
   ]
  },
  {
   "cell_type": "markdown",
   "id": "dcaa59f4",
   "metadata": {},
   "source": [
    "<details>\n",
    "    <summary>STYLING TEXT</summary>\n",
    "    \n",
    "|Style|Syntax|Keyboard Shortcuts|Example|Output|\n",
    "|:---:|:---:|:---:|:---|:---|\n",
    "|Bold |`**` `**` or `__` `__`|`Command`+`B` (Mac) or `Ctrl`+`B` (Windows/Linux)|\\*\\*This is bold text\\*\\*|**This is bold text**|\n",
    "|Italic|\n",
    "    \n",
    "</details>"
   ]
  },
  {
   "cell_type": "markdown",
   "id": "b7b7fe46",
   "metadata": {},
   "source": [
    "<details>\n",
    "    <summary>QUOTING TEXT</summary>\n",
    "    \n",
    "Text that is not a quote\n",
    "\n",
    "> Text that is a quote\n",
    "    \n",
    "</details>"
   ]
  },
  {
   "cell_type": "markdown",
   "id": "63f576d1",
   "metadata": {},
   "source": [
    "<details>\n",
    "    <summary>QUOTTING CODE</summary>\n",
    "    \n",
    "Use `git status` to list all new or modified files that haven't yet been committed.   \n",
    "\n",
    "```\n",
    "git status\n",
    "git add\n",
    "git commit\n",
    "```   \n",
    "    \n",
    "</details>"
   ]
  },
  {
   "cell_type": "markdown",
   "id": "30229a15",
   "metadata": {},
   "source": [
    "<details>\n",
    "    <summary>COLOR MODELS</summary>\n",
    "    \n",
    "The background color is `#ffffff` for light mode and `#000000` for dark mode.\n",
    "    \n",
    "</details>"
   ]
  },
  {
   "cell_type": "markdown",
   "id": "467f7360",
   "metadata": {},
   "source": [
    "<details>\n",
    "    <summary>LINKS</summary>\n",
    "    \n",
    "This site was built using [GitHub Pages](https://pages.github.com/).\n",
    "    \n",
    "</details>"
   ]
  },
  {
   "cell_type": "markdown",
   "id": "fea317d0",
   "metadata": {},
   "source": [
    "<details>\n",
    "    <summary>ALERTS</summary>\n",
    "    \n",
    "> [!NOTE]\n",
    "> Useful information that users should know, even when skimming content.\n",
    "\n",
    "> [!TIP]\n",
    "> Helpful advice for doing things better or more easily.\n",
    "\n",
    "> [!IMPORTANT]\n",
    "> Key information users need to know to achieve their goal.\n",
    "\n",
    "> [!WARNING]\n",
    "> Urgent info that needs immediate user attention to avoid problems.\n",
    "\n",
    "> [!CAUTION]\n",
    "> Advises about risks or negative outcomes of certain actions.    \n",
    "    \n",
    "</details>"
   ]
  },
  {
   "cell_type": "code",
   "execution_count": null,
   "id": "fed38db6",
   "metadata": {},
   "outputs": [],
   "source": []
  }
 ],
 "metadata": {
  "kernelspec": {
   "display_name": "Python 3 (ipykernel)",
   "language": "python",
   "name": "python3"
  },
  "language_info": {
   "codemirror_mode": {
    "name": "ipython",
    "version": 3
   },
   "file_extension": ".py",
   "mimetype": "text/x-python",
   "name": "python",
   "nbconvert_exporter": "python",
   "pygments_lexer": "ipython3",
   "version": "3.7.16"
  }
 },
 "nbformat": 4,
 "nbformat_minor": 5
}
