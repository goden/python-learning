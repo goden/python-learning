{
 "cells": [
  {
   "cell_type": "markdown",
   "id": "a1af9a25",
   "metadata": {},
   "source": [
    "# Tkinter Widget"
   ]
  },
  {
   "cell_type": "code",
   "execution_count": 1,
   "id": "8c1c8372",
   "metadata": {},
   "outputs": [],
   "source": [
    "from tkinter import *\n",
    "\n",
    "top = Tk()\n",
    "# Code to add widgets will go here...\n",
    "top.mainloop()"
   ]
  },
  {
   "cell_type": "markdown",
   "id": "016d4b46",
   "metadata": {},
   "source": [
    "# Button"
   ]
  },
  {
   "cell_type": "code",
   "execution_count": 2,
   "id": "96381e90",
   "metadata": {},
   "outputs": [],
   "source": [
    "from tkinter import *\n",
    " \n",
    "# create gui window\n",
    "gui = Tk(className='Python GUI Tutorial - by TutorialKart')\n",
    " \n",
    "#widgets start\n",
    " \n",
    "button = Button(gui, text='Submit', width=50, height=4, bg='#33CC33', fg='#FFFFFF', activebackground='#44DD44', activeforeground='#FFFFFF')\n",
    "button.pack()\n",
    " \n",
    "#widgets end\n",
    " \n",
    "gui.mainloop()"
   ]
  },
  {
   "cell_type": "markdown",
   "id": "c27479d3",
   "metadata": {},
   "source": [
    "# Text"
   ]
  },
  {
   "cell_type": "code",
   "execution_count": 3,
   "id": "bd7bb493",
   "metadata": {},
   "outputs": [],
   "source": [
    "from tkinter import *\n",
    "\n",
    "top = Tk()\n",
    "L1 = Label(top, text=\"User Name\")\n",
    "L1.pack( side = LEFT)\n",
    "E1 = Entry(top, bd =5)\n",
    "E1.pack(side = RIGHT)\n",
    "\n",
    "top.mainloop()"
   ]
  },
  {
   "cell_type": "markdown",
   "id": "53a4d93b",
   "metadata": {},
   "source": [
    "# Textarea"
   ]
  },
  {
   "cell_type": "code",
   "execution_count": 4,
   "id": "519e2907",
   "metadata": {},
   "outputs": [],
   "source": [
    "from tkinter import *\n",
    "\n",
    "def onclick():\n",
    "    pass\n",
    "\n",
    "root = Tk()\n",
    "text = Text(root)\n",
    "text.insert(INSERT, \"Hello.....\")\n",
    "text.insert(END, \"Bye Bye.....\")\n",
    "text.pack()\n",
    "\n",
    "text.tag_add(\"here\", \"1.0\", \"1.4\")\n",
    "text.tag_add(\"start\", \"1.8\", \"1.13\")\n",
    "text.tag_config(\"here\", background=\"yellow\", foreground=\"blue\")\n",
    "text.tag_config(\"start\", background=\"black\", foreground=\"green\")\n",
    "root.mainloop()"
   ]
  },
  {
   "cell_type": "markdown",
   "id": "c0a6f16f",
   "metadata": {},
   "source": [
    "# Scroll"
   ]
  },
  {
   "cell_type": "code",
   "execution_count": null,
   "id": "8695e1e5",
   "metadata": {},
   "outputs": [],
   "source": [
    "from tkinter import *\n",
    "\n",
    "root = Tk()\n",
    "scrollbar = Scrollbar(root)\n",
    "scrollbar.pack( side = RIGHT, fill = Y )\n",
    "\n",
    "mylist = Listbox(root, yscrollcommand = scrollbar.set )\n",
    "for line in range(100):\n",
    "    mylist.insert(END, \"This is line number \" + str(line))\n",
    "\n",
    "mylist.pack( side = LEFT, fill = BOTH )\n",
    "scrollbar.config( command = mylist.yview )\n",
    "\n",
    "mainloop()"
   ]
  },
  {
   "cell_type": "markdown",
   "id": "65c78f18",
   "metadata": {},
   "source": [
    "# Radioo"
   ]
  },
  {
   "cell_type": "code",
   "execution_count": null,
   "id": "687a07cf",
   "metadata": {},
   "outputs": [],
   "source": [
    "from tkinter import *\n",
    "\n",
    "def sel():\n",
    "    selection = \"You selected the option \" + str(var.get())\n",
    "    label.config(text = selection)\n",
    "\n",
    "root = Tk()\n",
    "var = IntVar()\n",
    "R1 = Radiobutton(root, text=\"Option 1\", variable=var, value=1,\n",
    "                  command=sel)\n",
    "R1.pack( anchor = W )\n",
    "\n",
    "R2 = Radiobutton(root, text=\"Option 2\", variable=var, value=2,\n",
    "                  command=sel)\n",
    "R2.pack( anchor = W )\n",
    "\n",
    "R3 = Radiobutton(root, text=\"Option 3\", variable=var, value=3,\n",
    "                  command=sel)\n",
    "R3.pack( anchor = W)\n",
    "\n",
    "label = Label(root)\n",
    "label.pack()\n",
    "root.mainloop()"
   ]
  },
  {
   "cell_type": "markdown",
   "id": "39745f22",
   "metadata": {},
   "source": [
    "# CheckButton"
   ]
  },
  {
   "cell_type": "code",
   "execution_count": null,
   "id": "d9acd5ae",
   "metadata": {},
   "outputs": [],
   "source": [
    "from tkinter import *\n",
    "import tkinter.messagebox\n",
    "\n",
    "top = Tk()\n",
    "CheckVar1 = IntVar()\n",
    "CheckVar2 = IntVar()\n",
    "C1 = Checkbutton(top, text = \"Music\", variable = CheckVar1, \\\n",
    "                 onvalue = 1, offvalue = 0, height=5, \\\n",
    "                 width = 20)\n",
    "C2 = Checkbutton(top, text = \"Video\", variable = CheckVar2, \\\n",
    "                 onvalue = 1, offvalue = 0, height=5, \\\n",
    "                 width = 20)\n",
    "C1.pack()\n",
    "C2.pack()\n",
    "top.mainloop()"
   ]
  },
  {
   "cell_type": "markdown",
   "id": "b7a5ea8b",
   "metadata": {},
   "source": [
    "# Message Box"
   ]
  },
  {
   "cell_type": "code",
   "execution_count": null,
   "id": "77f7937b",
   "metadata": {},
   "outputs": [],
   "source": [
    "import tkinter\n",
    "from tkinter import messagebox\n",
    "\n",
    "# hide main window\n",
    "root = tkinter.Tk()\n",
    "root.withdraw()\n",
    "\n",
    "# message box display\n",
    "messagebox.showerror(\"Error\", \"Error message\")\n",
    "messagebox.showwarning(\"Warning\",\"Warning message\")\n",
    "messagebox.showinfo(\"Information\",\"Informative message\")"
   ]
  },
  {
   "cell_type": "markdown",
   "id": "90935bcc",
   "metadata": {},
   "source": [
    "# Image"
   ]
  },
  {
   "cell_type": "code",
   "execution_count": 5,
   "id": "daa63c4d",
   "metadata": {},
   "outputs": [],
   "source": [
    "from tkinter import *\n",
    "\n",
    "# pip install pillow\n",
    "from PIL import Image, ImageTk\n",
    "\n",
    "class Window(Frame):\n",
    "    def __init__(self, master=None):\n",
    "        Frame.__init__(self, master)\n",
    "        self.master = master\n",
    "        self.pack(fill=BOTH, expand=1)\n",
    "        \n",
    "        load = Image.open(\"cat.jpg\")\n",
    "        render = ImageTk.PhotoImage(load)\n",
    "        img = Label(self, image=render)\n",
    "        img.image = render\n",
    "        img.place(x=0, y=0)\n",
    "\n",
    "        \n",
    "root = Tk()\n",
    "app = Window(root)\n",
    "root.wm_title(\"Tkinter window\")\n",
    "root.geometry(\"200x120\")\n",
    "root.mainloop()"
   ]
  },
  {
   "cell_type": "markdown",
   "id": "9b0db1c4",
   "metadata": {},
   "source": [
    "# MenuBar"
   ]
  },
  {
   "cell_type": "code",
   "execution_count": 6,
   "id": "39924e8b",
   "metadata": {},
   "outputs": [],
   "source": [
    "from tkinter import *\n",
    "\n",
    "def donothing():\n",
    "    filewin = Toplevel(root)\n",
    "    button = Button(filewin, text=\"Do nothing button\")\n",
    "    button.pack()\n",
    "\n",
    "root = Tk()\n",
    "menubar = Menu(root)\n",
    "filemenu = Menu(menubar, tearoff=0)\n",
    "filemenu.add_command(label=\"New\", command=donothing)\n",
    "filemenu.add_command(label=\"Open\", command=donothing)\n",
    "filemenu.add_command(label=\"Save\", command=donothing)\n",
    "filemenu.add_command(label=\"Save as...\", command=donothing)\n",
    "filemenu.add_command(label=\"Close\", command=donothing)\n",
    "\n",
    "filemenu.add_separator()\n",
    "\n",
    "filemenu.add_command(label=\"Exit\", command=root.quit)\n",
    "menubar.add_cascade(label=\"File\", menu=filemenu)\n",
    "editmenu = Menu(menubar, tearoff=0)\n",
    "editmenu.add_command(label=\"Undo\", command=donothing)\n",
    "\n",
    "editmenu.add_separator()\n",
    "\n",
    "editmenu.add_command(label=\"Cut\", command=donothing)\n",
    "editmenu.add_command(label=\"Copy\", command=donothing)\n",
    "editmenu.add_command(label=\"Paste\", command=donothing)\n",
    "editmenu.add_command(label=\"Delete\", command=donothing)\n",
    "editmenu.add_command(label=\"Select All\", command=donothing)\n",
    "\n",
    "menubar.add_cascade(label=\"Edit\", menu=editmenu)\n",
    "helpmenu = Menu(menubar, tearoff=0)\n",
    "helpmenu.add_command(label=\"Help Index\", command=donothing)\n",
    "helpmenu.add_command(label=\"About...\", command=donothing)\n",
    "menubar.add_cascade(label=\"Help\", menu=helpmenu)\n",
    "\n",
    "root.config(menu=menubar)\n",
    "root.mainloop()"
   ]
  }
 ],
 "metadata": {
  "kernelspec": {
   "display_name": "Python 3 (ipykernel)",
   "language": "python",
   "name": "python3"
  },
  "language_info": {
   "codemirror_mode": {
    "name": "ipython",
    "version": 3
   },
   "file_extension": ".py",
   "mimetype": "text/x-python",
   "name": "python",
   "nbconvert_exporter": "python",
   "pygments_lexer": "ipython3",
   "version": "3.7.16"
  }
 },
 "nbformat": 4,
 "nbformat_minor": 5
}
